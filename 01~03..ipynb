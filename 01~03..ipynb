{
 "cells": [
  {
   "cell_type": "code",
   "execution_count": 2,
   "metadata": {},
   "outputs": [
    {
     "name": "stdout",
     "output_type": "stream",
     "text": [
      "hello world\n"
     ]
    }
   ],
   "source": [
    "print(\"hello world\")"
   ]
  },
  {
   "cell_type": "markdown",
   "metadata": {},
   "source": [
    "# 02. 주피터 노트북 사용법\n",
    "\n",
    "## 1. 단축키\n",
    "- ctrl+enter 실행\n",
    "- shift+enter 실행 후 셀추가\n",
    "- shift+tab 함수 정의보기\n",
    "- a 위 셀 추가\n",
    "- b 아래 셀 추가\n",
    "- dd 셀 삭제\n",
    "- l 라인넘버 보이기\n",
    "\n",
    "## 2. 목록만들기\n",
    "1. 순서\n",
    "2. numbering\n",
    "\n",
    "print(\"hello world\")\n",
    "\n",
    "## 3. 연습\n",
    "\n",
    "### 마크다운 사용법\n",
    "- *제목3* 이텔릭체\n",
    "- _제목3_ 이텔릭체\n",
    "- **제목4** 두껍게\n",
    "- __제목4__ 두껍게\n",
    "- ~~제목5~~ 취소선\n",
    "- <u>제목6<u/> 밑줄\n",
    "    \n",
    "    \n",
    "- [NAVER] (https://naver.com \"네이버 홈\")\n",
    "- [GOOGLE] <https://google.com>\n",
    "    \n",
    "- [logo]: http://www.gstatic.com/webp/gallery/2.jpg \"To go kayaking.\"\n"
   ]
  },
  {
   "cell_type": "markdown",
   "metadata": {},
   "source": [
    "# 03. 파이썬을 계산기처럼 사용하기\n",
    "\n",
    "## 1. Type 알아내기"
   ]
  },
  {
   "cell_type": "code",
   "execution_count": 28,
   "metadata": {},
   "outputs": [
    {
     "name": "stdout",
     "output_type": "stream",
     "text": [
      "<class 'str'>\n",
      "<class 'bool'>\n"
     ]
    }
   ],
   "source": [
    "a='abc'\n",
    "print(type(a))\n",
    "print(type(True))"
   ]
  },
  {
   "cell_type": "markdown",
   "metadata": {},
   "source": [
    "## 2. 거듭제곱 표현"
   ]
  },
  {
   "cell_type": "code",
   "execution_count": 21,
   "metadata": {},
   "outputs": [
    {
     "name": "stdout",
     "output_type": "stream",
     "text": [
      "32\n"
     ]
    }
   ],
   "source": [
    "a=2**5\n",
    "print(a)"
   ]
  },
  {
   "cell_type": "markdown",
   "metadata": {},
   "source": [
    "## 3. 2진수, 8진수, 16진수 표현"
   ]
  },
  {
   "cell_type": "code",
   "execution_count": 25,
   "metadata": {
    "scrolled": true
   },
   "outputs": [
    {
     "name": "stdout",
     "output_type": "stream",
     "text": [
      "0b1010\n",
      "0o12\n",
      "0xa\n"
     ]
    }
   ],
   "source": [
    "print(bin(10))\n",
    "print(oct(10))\n",
    "print(hex(10))"
   ]
  },
  {
   "cell_type": "markdown",
   "metadata": {},
   "source": [
    "## Python의 예약어"
   ]
  },
  {
   "cell_type": "code",
   "execution_count": 26,
   "metadata": {},
   "outputs": [
    {
     "name": "stdout",
     "output_type": "stream",
     "text": [
      "['False', 'None', 'True', 'and', 'as', 'assert', 'async', 'await', 'break', 'class', 'continue', 'def', 'del', 'elif', 'else', 'except', 'finally', 'for', 'from', 'global', 'if', 'import', 'in', 'is', 'lambda', 'nonlocal', 'not', 'or', 'pass', 'raise', 'return', 'try', 'while', 'with', 'yield']\n"
     ]
    }
   ],
   "source": [
    "import keyword\n",
    "print(keyword.kwlist)"
   ]
  },
  {
   "cell_type": "markdown",
   "metadata": {},
   "source": [
    "## 식별자\n",
    "\n",
    "- 프로그래밍 언어에서 이름을 붙일 때 사용하는 단어(변수, 클래스, 함수 등)\n",
    "- 예약어는 사용 불가능\n",
    "- 특수문자는 _ (under bar)만 사용 가능\n",
    "- 숫자로 시작 불가능\n",
    "- 공백포함 불가능\n",
    "- 약자보다 전체단어, 의미있는 단어 사용 지양\n",
    "\n",
    "### 표기법\n",
    "_스네이크 케이스_\n",
    "- 단어와 단어사이를 _ 로 구분하는 표기법\n",
    "- 변수, 함수 이름으로 사용(소문자로 시작)\n",
    "\n",
    "_카멜 케이스_\n",
    "- 단어와 단어 사이를 대소문자로 구분하는 표기법\n",
    "- 클래스 이름으로 사용(대문자로 시작)"
   ]
  },
  {
   "cell_type": "markdown",
   "metadata": {},
   "source": [
    "# 04. 변수와 자료형"
   ]
  },
  {
   "cell_type": "code",
   "execution_count": 43,
   "metadata": {
    "scrolled": true
   },
   "outputs": [
    {
     "name": "stdout",
     "output_type": "stream",
     "text": [
      "[1, 2, 7, 4]\n",
      "[1, 2, 7]\n",
      "[2, 7]\n",
      "[2]\n"
     ]
    }
   ],
   "source": [
    "a=[1,2,7,4]\n",
    "print(a)\n",
    "\n",
    "a.pop()\n",
    "print(a)\n",
    "\n",
    "a.pop(0)\n",
    "print(a)\n",
    "\n",
    "a.remove(7)\n",
    "print(a)"
   ]
  },
  {
   "cell_type": "code",
   "execution_count": 45,
   "metadata": {},
   "outputs": [
    {
     "name": "stdout",
     "output_type": "stream",
     "text": [
      "8\n",
      "3\n",
      "2\n"
     ]
    }
   ],
   "source": [
    "a=[1,2,3,4,5,5,5,6]\n",
    "print(len(a)) #len.sum 같은 built-in functions은 객체를 변수로 넣어준다.\n",
    "\n",
    "print(a.count(5))\n",
    "\n",
    "a.remove(5)\n",
    "print(a.count(5))"
   ]
  },
  {
   "cell_type": "code",
   "execution_count": 7,
   "metadata": {},
   "outputs": [
    {
     "name": "stdout",
     "output_type": "stream",
     "text": [
      "[6, 5, 4, 3, 2, 1]\n",
      "[1, 2, 3, 4, 5, 6]\n"
     ]
    }
   ],
   "source": [
    "a=[6,5,4,3,2,1]\n",
    "b=sorted(a)\n",
    "print(a)\n",
    "\n",
    "a.sort()\n",
    "print(a)"
   ]
  },
  {
   "cell_type": "code",
   "execution_count": 10,
   "metadata": {},
   "outputs": [
    {
     "name": "stdout",
     "output_type": "stream",
     "text": [
      "0\n",
      "-1\n"
     ]
    }
   ],
   "source": [
    "str='python code line'\n",
    "print(str.find(\"python\")) #시작위치 반환\n",
    "print(str.find(\"python\",6)) #시작위치 6으로 지정, 못찾았으므로 -1 반환"
   ]
  }
 ],
 "metadata": {
  "kernelspec": {
   "display_name": "Python 3",
   "language": "python",
   "name": "python3"
  },
  "language_info": {
   "codemirror_mode": {
    "name": "ipython",
    "version": 3
   },
   "file_extension": ".py",
   "mimetype": "text/x-python",
   "name": "python",
   "nbconvert_exporter": "python",
   "pygments_lexer": "ipython3",
   "version": "3.7.6"
  }
 },
 "nbformat": 4,
 "nbformat_minor": 4
}
