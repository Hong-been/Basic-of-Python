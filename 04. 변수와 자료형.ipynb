{
 "cells": [
  {
   "cell_type": "markdown",
   "metadata": {},
   "source": [
    "### # *args: 함수의 input 갯수가 정해지지 않은 경우 사용"
   ]
  },
  {
   "cell_type": "code",
   "execution_count": 1,
   "metadata": {},
   "outputs": [
    {
     "name": "stdout",
     "output_type": "stream",
     "text": [
      "10\n",
      "20\n",
      "a\n"
     ]
    }
   ],
   "source": [
    "def MyFunc(*args):\n",
    "    for arg in args:\n",
    "        print(arg)\n",
    "        \n",
    "MyFunc(10,20,'a')"
   ]
  },
  {
   "cell_type": "markdown",
   "metadata": {},
   "source": [
    "# Tuple"
   ]
  },
  {
   "cell_type": "code",
   "execution_count": 2,
   "metadata": {},
   "outputs": [
    {
     "name": "stdout",
     "output_type": "stream",
     "text": [
      "return:  (1, 2)\n",
      "return type:  <class 'tuple'>\n",
      "2\n",
      "1\n"
     ]
    }
   ],
   "source": [
    "#return 값이 여러개일때, 튜플 로 저장되어 반환.\n",
    "def one():\n",
    "    return 1,2\n",
    "\n",
    "print(\"return: \",one())\n",
    "\n",
    "print(\"return type: \",type(one()))\n",
    "\n",
    "a,b=one()\n",
    "c=one()\n",
    "print(b)\n",
    "print(c[0])"
   ]
  },
  {
   "cell_type": "markdown",
   "metadata": {},
   "source": [
    "# Set"
   ]
  },
  {
   "cell_type": "code",
   "execution_count": 3,
   "metadata": {},
   "outputs": [
    {
     "name": "stdout",
     "output_type": "stream",
     "text": [
      "{1, 2}\n",
      "<class 'set'>\n"
     ]
    }
   ],
   "source": [
    "#수학의 집합 개념\n",
    "#list와 tuple과 달리 중복된 데이터를 쓸수없음, 순서가 없음\n",
    "set_ex={1,2,2}\n",
    "print(set_ex)\n",
    "print(type(set_ex))"
   ]
  },
  {
   "cell_type": "code",
   "execution_count": 4,
   "metadata": {
    "scrolled": true
   },
   "outputs": [
    {
     "name": "stdout",
     "output_type": "stream",
     "text": [
      "Intersection:  {4}\n",
      "Union:  {1, 2, 3, 4, 5, 6, 7}\n",
      "Difference:  {1, 2, 3}\n",
      "{4} {1, 2, 3, 4, 5, 6, 7} {1, 2, 3}\n"
     ]
    }
   ],
   "source": [
    "A={4,3,2,1}\n",
    "B={4,5,6,7}\n",
    "print(\"Intersection: \",A.intersection(B))\n",
    "print(\"Union: \",A.union(B))\n",
    "print(\"Difference: \",A.difference(B))\n",
    "print(A&B, A|B, A-B)"
   ]
  },
  {
   "cell_type": "markdown",
   "metadata": {},
   "source": [
    "# list, tuple, set 간의 타입 변환"
   ]
  },
  {
   "cell_type": "code",
   "execution_count": 9,
   "metadata": {
    "scrolled": true
   },
   "outputs": [
    {
     "name": "stdout",
     "output_type": "stream",
     "text": [
      "<class 'list'>\n",
      "[1, 2, 3, 3]\n",
      "<class 'tuple'>\n",
      "(1, 2, 3, 3)\n",
      "<class 'set'>\n",
      "{1, 2, 3}\n",
      "<class 'tuple'>\n",
      "(1, 2, 3)\n"
     ]
    }
   ],
   "source": [
    "a=[1,2,3,3] #list생성\n",
    "print(type(a))\n",
    "print(a)\n",
    "\n",
    "b=tuple(a)\n",
    "print(type(b))\n",
    "print(b)\n",
    "\n",
    "c=set(b)\n",
    "print(type(c))\n",
    "print(c)\n",
    "\n",
    "b=tuple(c)\n",
    "print(type(b))\n",
    "print(b)"
   ]
  },
  {
   "cell_type": "markdown",
   "metadata": {},
   "source": [
    "# Dictionary"
   ]
  },
  {
   "cell_type": "code",
   "execution_count": 17,
   "metadata": {
    "scrolled": true
   },
   "outputs": [
    {
     "name": "stdout",
     "output_type": "stream",
     "text": [
      "{'영국': '런던', '프랑스': '파리', '스위스': '베른'}\n",
      "<class 'dict'>\n",
      "{'프랑스': '파리', '스위스': '베른', '독일': '베를린'}\n"
     ]
    }
   ],
   "source": [
    "#{키:값}\n",
    "#키 : 숫자, 문자열 등 어떤 데이터 형태 가능\n",
    "#키를 인덱스로 사용\n",
    "country_capital={'영국':'런던', '프랑스':'파리',\n",
    "                 '스위스':'베른'}\n",
    "\n",
    "print(country_capital)\n",
    "print(type(country_capital))\n",
    "country_capital['독일']='베를린'\n",
    "del country_capital['영국']\n",
    "print(country_capital)\n",
    "# print(country_daptial[1]) occurs KeyError"
   ]
  },
  {
   "cell_type": "code",
   "execution_count": 18,
   "metadata": {},
   "outputs": [
    {
     "data": {
      "text/plain": [
       "dict_keys(['프랑스', '스위스', '독일'])"
      ]
     },
     "execution_count": 18,
     "metadata": {},
     "output_type": "execute_result"
    }
   ],
   "source": [
    "# key값 -> list형태로 변환\n",
    "country_capital.keys() "
   ]
  },
  {
   "cell_type": "code",
   "execution_count": 19,
   "metadata": {},
   "outputs": [
    {
     "data": {
      "text/plain": [
       "dict_values(['파리', '베른', '베를린'])"
      ]
     },
     "execution_count": 19,
     "metadata": {},
     "output_type": "execute_result"
    }
   ],
   "source": [
    "# value값 -> list형태로 변환\n",
    "country_capital.values() "
   ]
  },
  {
   "cell_type": "code",
   "execution_count": 21,
   "metadata": {},
   "outputs": [
    {
     "data": {
      "text/plain": [
       "dict_items([('프랑스', '파리'), ('스위스', '베른'), ('독일', '베를린')])"
      ]
     },
     "execution_count": 21,
     "metadata": {},
     "output_type": "execute_result"
    }
   ],
   "source": [
    "# (key,value) -> tuple형태로 변환\n",
    "country_capital.items() "
   ]
  },
  {
   "cell_type": "code",
   "execution_count": 29,
   "metadata": {},
   "outputs": [
    {
     "name": "stdout",
     "output_type": "stream",
     "text": [
      "{'프랑스': '파리', '스위스': '베른', '독일': '베를린', '한국': '서울'}\n"
     ]
    }
   ],
   "source": [
    "# 데이터 추가\n",
    "country_capital2={'한국':'서울'}\n",
    "country_capital.update(country_capital2)\n",
    "print(country_capital)"
   ]
  },
  {
   "cell_type": "code",
   "execution_count": 30,
   "metadata": {},
   "outputs": [
    {
     "name": "stdout",
     "output_type": "stream",
     "text": [
      "{}\n"
     ]
    }
   ],
   "source": [
    "# 모든 항목 삭제\n",
    "country_capital2.clear()\n",
    "print(country_capital2)"
   ]
  },
  {
   "cell_type": "code",
   "execution_count": 15,
   "metadata": {},
   "outputs": [
    {
     "data": {
      "text/plain": [
       "{1: 10,\n",
       " 'dict_num': {1: 10, 2: 20},\n",
       " 'dict_list_tuple': {'A': [11, 12, 13], 'B': [21, 22, 23]},\n",
       " 'dict_string': 'This is a book'}"
      ]
     },
     "execution_count": 15,
     "metadata": {},
     "output_type": "execute_result"
    }
   ],
   "source": [
    "# 다양한 형태의 key, value를 갖는 딕셔너리\n",
    "mixed_dict={1:10, 'dict_num':{1:10, 2:20}, \n",
    "            'dict_list_tuple':{\"A\":[11,12,13], \"B\":[21,22,23]},\n",
    "           \"dict_string\":\"This is a book\"}\n",
    "mixed_dict"
   ]
  }
 ],
 "metadata": {
  "kernelspec": {
   "display_name": "Python 3",
   "language": "python",
   "name": "python3"
  },
  "language_info": {
   "codemirror_mode": {
    "name": "ipython",
    "version": 3
   },
   "file_extension": ".py",
   "mimetype": "text/x-python",
   "name": "python",
   "nbconvert_exporter": "python",
   "pygments_lexer": "ipython3",
   "version": "3.7.6"
  }
 },
 "nbformat": 4,
 "nbformat_minor": 4
}
