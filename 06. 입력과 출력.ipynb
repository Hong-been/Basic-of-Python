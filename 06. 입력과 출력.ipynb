{
 "cells": [
  {
   "cell_type": "markdown",
   "metadata": {},
   "source": [
    "# 01. 입력과 출력\n",
    "- 2.x 이상 ver : print(\"%s, %d\" %(name,number))\n",
    "- 3.x 이상 ver : print(\"{0}\".format(name))"
   ]
  },
  {
   "cell_type": "code",
   "execution_count": 7,
   "metadata": {},
   "outputs": [
    {
     "name": "stdout",
     "output_type": "stream",
     "text": [
      "0.1234568\n"
     ]
    }
   ],
   "source": [
    "# 반올림하여 출력형식 지정하기\n",
    "a=.12345679123456789\n",
    "print(\"{0:.7f}\".format(a))"
   ]
  },
  {
   "cell_type": "markdown",
   "metadata": {},
   "source": [
    "## 숫자의 출력 형식 지정"
   ]
  },
  {
   "cell_type": "code",
   "execution_count": 19,
   "metadata": {},
   "outputs": [
    {
     "name": "stdout",
     "output_type": "stream",
     "text": [
      "1. '0:10d' 정수를 공백을 포함해 10자 :    1234500\n",
      "2. '0:010d' 정수를 공백을 0으로 표기하여 10자 : 0001234500\n",
      "3. '0:>10d' 정수를 공백을 포함해 10자, 오른쪽 정렬:    1234500\n",
      "\n",
      "4. '0:.3f' 실수를 소수점 셋째 자리까지 표기: 0.123\n",
      "5. '0:,' 3개 자리마다 , 표기 : 1,234,500\n",
      "6. '0:.1%' 소수를 소수점 첫째 자리까지 %로 표시: 12.3%\n",
      "7. '0:.2e' 숫자를 소수점 둘째 자리까지 지수로 표시 : 1.23e+06\n",
      "8. '0:#x' 16진수 : 0x12d644\n",
      "9. '0:#o' 8진수: 0o4553104\n",
      "10.'0:#b' 2진수: 0b100101101011001000100\n"
     ]
    }
   ],
   "source": [
    "a=1234500\n",
    "b=0.12345679123456789\n",
    "\n",
    "print(\"1. '0:10d' 정수를 공백을 포함해 10자 : {0:10d}\".format(a))\n",
    "print(\"2. '0:010d' 정수를 공백을 0으로 표기하여 10자 : {0:010d}\".format(a))\n",
    "print(\"3. '0:>10d' 정수를 공백을 포함해 10자, 오른쪽 정렬: {0:>10d}\\n\".format(a))\n",
    "\n",
    "print(\"4. '0:.3f' 실수를 소수점 셋째 자리까지 표기: {0:.3f}\".format(b))\n",
    "print(\"5. '0:,' 3개 자리마다 , 표기 : {0:,}\".format(a))\n",
    "print(\"6. '0:.1%' 소수를 소수점 첫째 자리까지 %로 표시: {0:.1%}\".format(b))\n",
    "print(\"7. '0:.2e' 숫자를 소수점 둘째 자리까지 지수로 표시 : {0:.2e}\".format(a))\n",
    "print(\"8. '0:#x' 16진수 : {0:#x}\".format(a))\n",
    "print(\"9. '0:#o' 8진수: {0:#o}\".format(a))\n",
    "print(\"10.'0:#b' 2진수: {0:#b}\".format(a))\n"
   ]
  },
  {
   "cell_type": "code",
   "execution_count": 5,
   "metadata": {},
   "outputs": [
    {
     "data": {
      "text/plain": [
       "str"
      ]
     },
     "execution_count": 5,
     "metadata": {},
     "output_type": "execute_result"
    }
   ],
   "source": [
    "b=0.34444444444444444\n",
    "type(format(b,\"0.3f\"))"
   ]
  },
  {
   "cell_type": "markdown",
   "metadata": {},
   "source": [
    "# 02. 키보드 입력\n",
    "- data=input() 으로 문자열을 입력받는다.\n",
    "- 정수형을 입력받고 싶다면 data=int(input())\n",
    "- input함수 내부에 문자열을 입력하면 화면에 출력된다."
   ]
  },
  {
   "cell_type": "code",
   "execution_count": 88,
   "metadata": {},
   "outputs": [
    {
     "name": "stdout",
     "output_type": "stream",
     "text": [
      "이름: 홍쮸\n",
      "나이: 25\n"
     ]
    }
   ],
   "source": [
    "name=input(\"이름: \")\n",
    "age=int(input(\"나이: \"))"
   ]
  },
  {
   "cell_type": "markdown",
   "metadata": {},
   "source": [
    "# 03. 파일 읽고 쓰기"
   ]
  },
  {
   "cell_type": "markdown",
   "metadata": {},
   "source": [
    "## 3-1. 파일 열기\n",
    "- 내장함수 open() 사용, 파일 객체를 반환한다.\n",
    "- f=open('file_name', 'mode')\n",
    "- mode의 종류, 혼합해서 사용가능\n",
    "    1. r : 읽기모드로 파일열기, default\n",
    "    2. w : 쓰기모드, 같은 이름의 파일이 있으면 기존 내용은 모두 삭제\n",
    "    3. x : 쓰기모드, 같은 이름의 파일이 있으면 에러 발생\n",
    "    4. a : 추가모드, 내용을 추가한다. 같은 이름의 파일이 없으면 기존 내용은 모두 삭제?\n",
    "    5. b : 바이너리 파일모드\n",
    "    6. t : 텍스트 파일모드, default\n",
    "- 주피터에서 '!명령어'로 운영체제 명령어를 수행할 수 있다.\n",
    "- type : 텍스트 파일의 내용을 출력함"
   ]
  },
  {
   "cell_type": "code",
   "execution_count": 30,
   "metadata": {},
   "outputs": [
    {
     "name": "stdout",
     "output_type": "stream",
     "text": [
      "c:\\python\n"
     ]
    }
   ],
   "source": [
    "cd c:/python"
   ]
  },
  {
   "cell_type": "code",
   "execution_count": 52,
   "metadata": {},
   "outputs": [],
   "source": [
    "f=open('Hong.txt','w')\n",
    "f.write('뀨\\n쀼')\n",
    "f.close()"
   ]
  },
  {
   "cell_type": "code",
   "execution_count": 38,
   "metadata": {
    "scrolled": true
   },
   "outputs": [
    {
     "name": "stdout",
     "output_type": "stream",
     "text": [
      "뀨\n",
      "쀼\n"
     ]
    }
   ],
   "source": [
    "!type Hong.txt"
   ]
  },
  {
   "cell_type": "markdown",
   "metadata": {},
   "source": [
    "### Q. 기존의 test파일을 수정하여 각 줄 맨 앞에 원하는 주석을 달아라."
   ]
  },
  {
   "cell_type": "code",
   "execution_count": 53,
   "metadata": {},
   "outputs": [],
   "source": [
    "# read를 사용하기(복잡한 버전)\n",
    "string='data/'\n",
    "f=open('Hong.txt', 'r')\n",
    "data=f.read() # 읽은 파일의 모든 내용이 data에 할당된다.\n",
    "f.close()\n",
    "\n",
    "f=open('Hong.txt', 'w')\n",
    "data_split = data.split('\\n')\n",
    "\n",
    "for i in data_split:\n",
    "    i=i.replace(i,string+i+'\\n')\n",
    "    f.write(i)\n",
    "    \n",
    "f.close()"
   ]
  },
  {
   "cell_type": "code",
   "execution_count": 54,
   "metadata": {
    "scrolled": true
   },
   "outputs": [
    {
     "name": "stdout",
     "output_type": "stream",
     "text": [
      "data/뀨\n",
      "data/쀼\n"
     ]
    }
   ],
   "source": [
    "!type Hong.txt"
   ]
  },
  {
   "cell_type": "markdown",
   "metadata": {},
   "source": [
    "# 04. 반복문을 이용해 파일 읽고 쓰기\n",
    "- readline() : 한 줄씩 반환하여 맨 끝줄이 끝나고 실행하면 빈 문자열을 반환한다.\n",
    "- readlines() : 파일 전체의 모든 줄을 한 줄씩 읽어 리스트 형태로 반환한다. "
   ]
  },
  {
   "cell_type": "code",
   "execution_count": 65,
   "metadata": {},
   "outputs": [],
   "source": [
    "f=open('two_times_table.txt', 'w')\n",
    "\n",
    "for i in range(1,6):\n",
    "    format_str='2*{0}={1}\\n'.format(i, i*2)\n",
    "    f.write(format_str)\n",
    "    \n",
    "f.close()"
   ]
  },
  {
   "cell_type": "code",
   "execution_count": 58,
   "metadata": {},
   "outputs": [
    {
     "name": "stdout",
     "output_type": "stream",
     "text": [
      "2*1=2\n",
      "2*2=4\n",
      "2*3=6\n",
      "2*4=8\n",
      "2*5=10\n"
     ]
    }
   ],
   "source": [
    "!type two_times_table.txt"
   ]
  },
  {
   "cell_type": "code",
   "execution_count": 63,
   "metadata": {},
   "outputs": [],
   "source": [
    "# 파일 삭제하기\n",
    "import os\n",
    "os.remove('c:/python/two_times_tabl.txt')"
   ]
  },
  {
   "cell_type": "code",
   "execution_count": 68,
   "metadata": {},
   "outputs": [
    {
     "name": "stdout",
     "output_type": "stream",
     "text": [
      "2*1=2\n",
      "2*2=4\n",
      "\n"
     ]
    }
   ],
   "source": [
    "# readling을 사용하여 한줄씩 읽기\n",
    "f=open(\"two_times_table.txt\")\n",
    "line1=f.readline()\n",
    "line2=f.readline()\n",
    "f.close()\n",
    "\n",
    "print(line1+line2)\n",
    "# 각 라인에 이미 줄바꿈(\\n)이 포함되어 있다."
   ]
  },
  {
   "cell_type": "code",
   "execution_count": 71,
   "metadata": {},
   "outputs": [
    {
     "name": "stdout",
     "output_type": "stream",
     "text": [
      "2*1=2\n",
      "2*2=4\n",
      "2*3=6\n",
      "2*4=8\n",
      "2*5=10\n"
     ]
    }
   ],
   "source": [
    "# readling을 사용하여 한줄씩 읽기\n",
    "f=open(\"two_times_table.txt\")\n",
    "line=f.readline()\n",
    "\n",
    "while line:\n",
    "    print(line, end=\"\") # 두번 줄바꿈되는 현상 방지\n",
    "    line=f.readline()\n",
    "    \n",
    "f.close()"
   ]
  },
  {
   "cell_type": "code",
   "execution_count": 74,
   "metadata": {
    "scrolled": true
   },
   "outputs": [
    {
     "name": "stdout",
     "output_type": "stream",
     "text": [
      "['2*1=2\\n', '2*2=4\\n', '2*3=6\\n', '2*4=8\\n', '2*5=10\\n']\n",
      "2*1=2\n",
      "2*2=4\n",
      "2*3=6\n",
      "2*4=8\n",
      "2*5=10\n"
     ]
    }
   ],
   "source": [
    "f=open('two_times_table.txt')\n",
    "lines=f.readlines()\n",
    "f.close()\n",
    "\n",
    "print(lines) # list형 확인\n",
    "\n",
    "for line in lines:\n",
    "    print(line, end=\"\") #보기좋게 출력하기\n",
    "    "
   ]
  },
  {
   "cell_type": "code",
   "execution_count": 75,
   "metadata": {},
   "outputs": [
    {
     "name": "stdout",
     "output_type": "stream",
     "text": [
      "2*1=2\n",
      "2*2=4\n",
      "2*3=6\n",
      "2*4=8\n",
      "2*5=10\n"
     ]
    }
   ],
   "source": [
    "f=open('two_times_table.txt')\n",
    "\n",
    "for line in f.readlines():\n",
    "    print(line, end=\"\") #한방에 출력하기~~\n",
    "    "
   ]
  },
  {
   "cell_type": "markdown",
   "metadata": {},
   "source": [
    "### Q. 파일을 읽고 수정하여 앞에 주석을 달아보자. 간단한 버전!"
   ]
  },
  {
   "cell_type": "code",
   "execution_count": 78,
   "metadata": {},
   "outputs": [
    {
     "name": "stdout",
     "output_type": "stream",
     "text": [
      "Yolo/data/2*1=2\n",
      "Yolo/data/2*2=4\n",
      "Yolo/data/2*3=6\n",
      "Yolo/data/2*4=8\n",
      "Yolo/data/2*5=10\n"
     ]
    }
   ],
   "source": [
    "f=open('two_times_table.txt')\n",
    "data=\"Yolo/data/\"\n",
    "\n",
    "for line in f: # readlines안써도 파일 객체 전체를 읽어온다.\n",
    "    print(data+line, end=\"\") #한방에 출력하기~~"
   ]
  },
  {
   "cell_type": "markdown",
   "metadata": {},
   "source": [
    "# 05. with문을 활용해 파일읽고 쓰기\n",
    "- open함수와 다르게 읽기나 쓰기가 끝난 후 자동으로 close되기때문에 편하다.\n",
    "- with open('file_name', 'mode') as f:\n",
    "- 쓰기 : f.write('  str  ')\n",
    "- 읽기 : '  str  '=f.read()"
   ]
  },
  {
   "cell_type": "code",
   "execution_count": 79,
   "metadata": {},
   "outputs": [],
   "source": [
    "with open('c:/python/mytext.txt', 'w') as f:\n",
    "    f.write('Yolo/data/line1\\n')\n",
    "    f.write('Yolo/data/line2\\n')\n",
    "    f.write('Yolo/data/line3\\n')\n",
    "    f.write('Yolo/data/line4\\n')"
   ]
  },
  {
   "cell_type": "code",
   "execution_count": 80,
   "metadata": {},
   "outputs": [
    {
     "name": "stdout",
     "output_type": "stream",
     "text": [
      "Yolo/data/line1\n",
      "Yolo/data/line2\n",
      "Yolo/data/line3\n",
      "Yolo/data/line4\n",
      "\n"
     ]
    }
   ],
   "source": [
    "with open('c:/python/mytext.txt', 'r') as f:\n",
    "    data=f.read() #전체 읽기\n",
    "    print(data)"
   ]
  },
  {
   "cell_type": "code",
   "execution_count": 86,
   "metadata": {},
   "outputs": [],
   "source": [
    "with open('c:/python/mytext2.txt', 'w') as f:\n",
    "    for i in range(1,6):\n",
    "        string=\"3*{0}=3*{1}\\n\".format(i, i*3)\n",
    "        f.write(string)"
   ]
  },
  {
   "cell_type": "code",
   "execution_count": 87,
   "metadata": {},
   "outputs": [
    {
     "name": "stdout",
     "output_type": "stream",
     "text": [
      "3*1=3*3\n",
      "\n",
      "3*2=3*6\n",
      "\n",
      "3*3=3*9\n",
      "\n",
      "3*4=3*12\n",
      "\n",
      "3*5=3*15\n",
      "\n"
     ]
    }
   ],
   "source": [
    "with open('c:/python/mytext2.txt', 'r') as f:\n",
    "    for i in f:\n",
    "        print(i)"
   ]
  }
 ],
 "metadata": {
  "kernelspec": {
   "display_name": "Python 3",
   "language": "python",
   "name": "python3"
  },
  "language_info": {
   "codemirror_mode": {
    "name": "ipython",
    "version": 3
   },
   "file_extension": ".py",
   "mimetype": "text/x-python",
   "name": "python",
   "nbconvert_exporter": "python",
   "pygments_lexer": "ipython3",
   "version": "3.7.6"
  }
 },
 "nbformat": 4,
 "nbformat_minor": 4
}
