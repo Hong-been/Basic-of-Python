{
 "cells": [
  {
   "cell_type": "markdown",
   "metadata": {},
   "source": [
    "# 1. 다중상속\n",
    "- B,C -> D 와 같이 여러 부모 클래스로부터 상속 받는 것 \n",
    "- A -> B ,C ->D 와 같은 상속은 다이아몬드 상속(Diamond of Death)이라고 한다.\n",
    "- 다중상속은 문제가 발생할 수 있기 때문에 유의해야한다."
   ]
  },
  {
   "cell_type": "code",
   "execution_count": 2,
   "metadata": {},
   "outputs": [],
   "source": [
    "class Parent1:\n",
    "    def parent1(self):\n",
    "        print(\"부모1 클래스\")\n",
    "\n",
    "class Parent2:\n",
    "    def parent2(self):\n",
    "        print(\"부모2 클래스\")\n",
    "        \n",
    "class Child(Parent1, Parent2):\n",
    "    def child(self):\n",
    "        print(\"자식 클래스\")   \n"
   ]
  },
  {
   "cell_type": "code",
   "execution_count": 4,
   "metadata": {},
   "outputs": [
    {
     "name": "stdout",
     "output_type": "stream",
     "text": [
      "자식 클래스\n",
      "부모1 클래스\n",
      "부모2 클래스\n"
     ]
    }
   ],
   "source": [
    "child_hong=Child()\n",
    "\n",
    "child_hong.child()\n",
    "child_hong.parent1()\n",
    "child_hong.parent2()"
   ]
  },
  {
   "cell_type": "markdown",
   "metadata": {},
   "source": [
    "## override / overload(헷갈리므로 주의!)\n",
    "- overriding : 같은 이름의 메소드를 여러개 가지면서 매개변수의 유형과 개수가 다르도록 한다.\n",
    "- overloading : 상위 클래스가 가지고 있는 메소드를 하위 클래스가 재정의해서 사용한다."
   ]
  },
  {
   "cell_type": "markdown",
   "metadata": {},
   "source": [
    "# 2. 추상클래스(Abstract Class)\n",
    "- 추상클래스는 how to do 가 아닌 what to do 만 정의한다.\n",
    "- 인스턴스를 생성할 수 없다.\n",
    "- 자식 클래스들이 각각의 독립된 공통적인 기능을 갖출 때 사용한다.\n",
    "- 각각의 독립된 공통적인 기능이 값을 공유하면 안되므로 구현하지 않은 빈 메소드를 사용한다.\n",
    "- abc(Abstact Base Class) 모듈을 가져와서 사용한다."
   ]
  },
  {
   "cell_type": "code",
   "execution_count": 13,
   "metadata": {},
   "outputs": [],
   "source": [
    "# 게임 캐릭터를 만들어보자\n",
    "# 힘, 민첩, 지력, 운, 물리공격력, 마법공격력\n",
    "# strong, dexterity, intelligent, luck, Ability Damage, Ability Power\n",
    "from abc import *\n",
    "\n",
    "class Jobs(metaclass=ABCMeta):\n",
    "    \n",
    "    #추상메서드\n",
    "    @abstractmethod\n",
    "    def stats(self):\n",
    "        pass\n",
    "    \n",
    "    @abstractmethod\n",
    "    def item(self):\n",
    "        pass\n",
    "    \n",
    "class Warrior(Jobs):\n",
    "    def stats(self, str, dex, int, luk, ad, ap):\n",
    "        self.str=str\n",
    "        self.dex=dex\n",
    "        self.int=int\n",
    "        self.luk=luk\n",
    "        self.ad=ad\n",
    "        self.ap=ap\n",
    "        \n",
    "        print(\"전사 직업 능력치\")\n",
    "        print(\"힘: {0}\".format(self.str))\n",
    "        print('민첩: {0}'.format(self.dex))\n",
    "        print('지력: {0}'.format(self.int))\n",
    "        print('운: {0}'.format(self.luk))\n",
    "        print('물리 공격력: {0}'.format(self.ad))\n",
    "        print('마법 공격력: {0}'.format(self.ap))\n",
    "\n",
    "    def item(self):\n",
    "        print('소지중인 아이템: 검\\n')\n",
    "        \n",
    "        \n",
    "class Wizard(Jobs):\n",
    "    def stats(self, str, dex, int, luk, ad, ap):\n",
    "        self.str = str\n",
    "        self.dex = dex\n",
    "        self.int = int\n",
    "        self.luk = luk\n",
    "        self.ad = ad\n",
    "        self.ap = ap\n",
    "        print('마법사 직업 능력치')\n",
    "        print('힘: {0}'.format(self.str))\n",
    "        print('민첩: {0}'.format(self.dex))\n",
    "        print('지력: {0}'.format(self.int))\n",
    "        print('운: {0}'.format(self.luk))\n",
    "        print('물리 공격력: {0}'.format(self.ad))\n",
    "        print('마법 공격력: {0}'.format(self.ap))\n",
    "\n",
    "    def item(self):\n",
    "        print('소지중인 아이템: 지팡이\\n')\n",
    "        \n",
    "\n",
    "class Archer(Jobs):\n",
    "    def stats(self, str, dex, int, luk, ad, ap):\n",
    "        self.str = str\n",
    "        self.dex = dex\n",
    "        self.int = int\n",
    "        self.luk = luk\n",
    "        self.ad = ad\n",
    "        self.ap = ap\n",
    "        print('궁수 직업 능력치')\n",
    "        print('힘: {0}'.format(self.str))\n",
    "        print('민첩: {0}'.format(self.dex))\n",
    "        print('지력: {0}'.format(self.int))\n",
    "        print('운: {0}'.format(self.luk))\n",
    "        print('물리 공격력: {0}'.format(self.ad))\n",
    "        print('마법 공격력: {0}'.format(self.ap))\n",
    "\n",
    "    def item(self):\n",
    "        print('소지중인 아이템: 활\\n')\n",
    "\n"
   ]
  },
  {
   "cell_type": "code",
   "execution_count": 11,
   "metadata": {
    "scrolled": true
   },
   "outputs": [
    {
     "name": "stdout",
     "output_type": "stream",
     "text": [
      "전사 직업 능력치\n",
      "힘: 30\n",
      "민첩: 10\n",
      "지력: 10\n",
      "운: 10\n",
      "물리 공격력: 40\n",
      "마법 공격력: 10\n",
      "소지중인 아이템: 검\n",
      "\n",
      "마법사 직업 능력치\n",
      "힘: 10\n",
      "민첩: 10\n",
      "지력: 30\n",
      "운: 10\n",
      "물리 공격력: 10\n",
      "마법 공격력: 50\n",
      "소지중인 아이템: 지팡이\n",
      "\n",
      "궁수 직업 능력치\n",
      "힘: 10\n",
      "민첩: 30\n",
      "지력: 10\n",
      "운: 10\n",
      "물리 공격력: 50\n",
      "마법 공격력: 10\n",
      "소지중인 아이템: 활\n",
      "\n"
     ]
    }
   ],
   "source": [
    "# 전사 능력치        \n",
    "test1 = Warrior()\n",
    "test1.stats(30, 10, 10, 10, 40, 10)\n",
    "# 전사가 소지중인 아이템\n",
    "test1.item()\n",
    "\n",
    "# 마법사 능력치\n",
    "test2 = Wizard()\n",
    "test2.stats(10, 10, 30, 10, 10, 50)\n",
    "# 마법사가 소지중인 아이템\n",
    "test2.item()\n",
    "\n",
    "# 궁수 능력치\n",
    "test3 = Archer()\n",
    "test3.stats(10, 30, 10, 10, 50, 10)\n",
    "# 궁수가 소지중인 아이템\n",
    "test3.item()"
   ]
  },
  {
   "cell_type": "markdown",
   "metadata": {},
   "source": [
    "# 3. 예외처리\n",
    "- try에서 한줄씩 실행하다가 error가 발생하면 except블럭으로 넘어가기 때문에, 나머지 try코드들은 실행되지 않는다."
   ]
  },
  {
   "cell_type": "markdown",
   "metadata": {},
   "source": [
    "## 3-1. try/except"
   ]
  },
  {
   "cell_type": "code",
   "execution_count": 15,
   "metadata": {},
   "outputs": [
    {
     "name": "stdout",
     "output_type": "stream",
     "text": [
      "wrong division\n"
     ]
    }
   ],
   "source": [
    "#1. 어떤 에러가 발생해도 wrong division이 출력됨\n",
    "try:\n",
    "    print(5/0)\n",
    "except:\n",
    "    print('wrong division')"
   ]
  },
  {
   "cell_type": "code",
   "execution_count": 16,
   "metadata": {},
   "outputs": [
    {
     "name": "stdout",
     "output_type": "stream",
     "text": [
      "wrong division\n"
     ]
    }
   ],
   "source": [
    "# 2. 0으로 나눌 경우에만 에러처리가 가능함\n",
    "try:\n",
    "    print(5/0)\n",
    "except ZeroDivisionError:\n",
    "    print('wrong division')"
   ]
  },
  {
   "cell_type": "code",
   "execution_count": 18,
   "metadata": {
    "scrolled": true
   },
   "outputs": [
    {
     "name": "stdout",
     "output_type": "stream",
     "text": [
      "division by zero\n"
     ]
    }
   ],
   "source": [
    "# 3. ZeroDivisionError가 발생하면, 저장된 string을 출력한다.\n",
    "try:\n",
    "    print(5/0)\n",
    "except ZeroDivisionError as e:\n",
    "    print(e)"
   ]
  },
  {
   "cell_type": "markdown",
   "metadata": {},
   "source": [
    "## 3-2. try/except/else"
   ]
  },
  {
   "cell_type": "code",
   "execution_count": 19,
   "metadata": {},
   "outputs": [
    {
     "name": "stdout",
     "output_type": "stream",
     "text": [
      "5.0\n",
      "no error\n"
     ]
    }
   ],
   "source": [
    "# 1. 에러가 발생하지 않을 경우를 고려함.\n",
    "try:\n",
    "    print(5/1)\n",
    "except:\n",
    "    print('wrong division')\n",
    "else:\n",
    "    print('no error')"
   ]
  },
  {
   "cell_type": "markdown",
   "metadata": {},
   "source": [
    "## 3-3. try/except/finally"
   ]
  },
  {
   "cell_type": "code",
   "execution_count": 21,
   "metadata": {},
   "outputs": [
    {
     "name": "stdout",
     "output_type": "stream",
     "text": [
      "division by zero\n",
      "End\n"
     ]
    }
   ],
   "source": [
    "# 1. 에러의 유무와 별개로 항상 실행되는 finally\n",
    "try:\n",
    "    print(5/0)\n",
    "except ZeroDivisionError as e:\n",
    "    print(e)\n",
    "finally:\n",
    "    print('End')"
   ]
  },
  {
   "cell_type": "markdown",
   "metadata": {},
   "source": [
    "## 3-4. 복합적인 에러 처리하기"
   ]
  },
  {
   "cell_type": "code",
   "execution_count": 35,
   "metadata": {},
   "outputs": [
    {
     "name": "stdout",
     "output_type": "stream",
     "text": [
      "can only concatenate str (not \"int\") to str\n",
      "End the test.\n"
     ]
    }
   ],
   "source": [
    "# 1. 이 경우 가장 먼저 발생한 에러밖에 출력되지 않는다.\n",
    "# 하지만 pass로 회피했으므로 에러는 발생하지않는다.\n",
    "try:\n",
    "    #print(5/0)\n",
    "    #print(r)\n",
    "    print('Today'+3)\n",
    "\n",
    "except NameError as e:\n",
    "    print(e)\n",
    "except ZeroDivisionError as e:\n",
    "    pass \n",
    "except TypeError as e:\n",
    "    print(e)\n",
    "\n",
    "finally:\n",
    "    print(\"\\nEnd the test.\")"
   ]
  },
  {
   "cell_type": "markdown",
   "metadata": {},
   "source": [
    "## 3-5. 오류 발생시키기\n",
    "- 만든 에러를 발생시키려면 raise \"에러명\" 으로 써주어야한다."
   ]
  },
  {
   "cell_type": "code",
   "execution_count": 38,
   "metadata": {},
   "outputs": [
    {
     "name": "stdout",
     "output_type": "stream",
     "text": [
      "나이: -8\n",
      "NotImplementedError\n",
      "\n",
      "End the test.\n"
     ]
    }
   ],
   "source": [
    "# 1. -2.3을 입력하면 ValueError가 발생하여 try가 바로 종료된다.\n",
    "try:\n",
    "    age=int(input(\"나이: \"))\n",
    "    if age<0:\n",
    "        raise NotImplementedError\n",
    "    print(age)\n",
    "    \n",
    "except NotImplementedError as e: # 음수 입력시 발생\n",
    "    print('NotImplementedError')\n",
    "except ValueError as e: # int이 아닌 실수가 입력되는 에러발생, 하지만 pass로 설정.\n",
    "    pass\n",
    "\n",
    "finally:\n",
    "    print(\"\\nEnd the test.\")"
   ]
  },
  {
   "cell_type": "markdown",
   "metadata": {},
   "source": [
    "## 3-6. 사용자 정의 오류\n",
    "- 예외를 원하는 대로 작성\n",
    "- def __ init__ : 에러 클래스가 생성될 때 실행, msg 내용을 지정\n",
    "- 지정해주지않으면 'init_error_msg'로 지정된다.\n",
    "- def __ str__ : 에러발생시 출력해주는 메시지를 리턴한다.즉. msg를 따로 지정해주지않았다면 'init_error_msg'가 출력된다."
   ]
  },
  {
   "cell_type": "code",
   "execution_count": 55,
   "metadata": {},
   "outputs": [
    {
     "name": "stdout",
     "output_type": "stream",
     "text": [
      "-80\n",
      "age can not be negative\n",
      "\n",
      "End the test.\n"
     ]
    }
   ],
   "source": [
    "#  AgeError 발생시, 'age can not be negative'가 출력된다.\n",
    "class AgeError(Exception):\n",
    "    def __init__(self, msg= 'init_error_msg'):\n",
    "        self.msg=msg\n",
    "        \n",
    "    def __str__(self):\n",
    "        return self.msg\n",
    "    \n",
    "    \n",
    "try:    \n",
    "    age=int(input())\n",
    "    if age<0 :\n",
    "        raise AgeError('age can not be negative')\n",
    "    print(age)\n",
    "\n",
    "except AgeError as e:\n",
    "    print(e)\n",
    "    \n",
    "finally:\n",
    "    print(\"\\nEnd the test.\")"
   ]
  }
 ],
 "metadata": {
  "kernelspec": {
   "display_name": "Python 3",
   "language": "python",
   "name": "python3"
  },
  "language_info": {
   "codemirror_mode": {
    "name": "ipython",
    "version": 3
   },
   "file_extension": ".py",
   "mimetype": "text/x-python",
   "name": "python",
   "nbconvert_exporter": "python",
   "pygments_lexer": "ipython3",
   "version": "3.7.6"
  }
 },
 "nbformat": 4,
 "nbformat_minor": 4
}
