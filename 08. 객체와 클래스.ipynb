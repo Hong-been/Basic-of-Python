{
 "cells": [
  {
   "cell_type": "markdown",
   "metadata": {},
   "source": [
    "\n",
    "# 1. 클래스\n",
    "- 클래스 선언 시, 카멜표기법 사용\n",
    "- 클래스 내의 함수\n",
    "    1. 인스턴스 메서드(처음 인자로 self사용, self는 인스턴스를 가리킴, 객체를 인스턴스화 -> self 사용가능)\n",
    "    2. 정적 메서드(처음 인자로 self사용하지않음)\n",
    "    3. 클래스 메서드\n",
    "- def __init__ 을 사용하면 객체생성과 동시에 원하는 인자의 초기화가 가능하다.\n",
    "- 클래스 메소드 선언 시, self.def2 와 같이 메소드 사용이 가능하다.\n",
    "- 클래스 \"def  __메소드\" : 비공개 메소드, 클래스 외부에서 호출 불가(AttributeError: there is no attribute)\n",
    "- 클래스 메소드내에서 \"self.__속성\" : 비공개 속성, 해당 메소드에서만 호출 가능(AttributeError: there is no attribute)\n"
   ]
  },
  {
   "cell_type": "markdown",
   "metadata": {},
   "source": [
    "## 1-1. 인스턴스 메서드 Instance Method"
   ]
  },
  {
   "cell_type": "code",
   "execution_count": 26,
   "metadata": {},
   "outputs": [
    {
     "name": "stdout",
     "output_type": "stream",
     "text": [
      "hello world\n",
      "Hong 25\n"
     ]
    }
   ],
   "source": [
    "#class 선언\n",
    "class Person:\n",
    "    \n",
    "    def __init__(self, **kwargs):\n",
    "        self.name=kwargs['name']\n",
    "        self.age=kwargs['age']\n",
    "        \n",
    "    def hello(self):\n",
    "        print('hello world')\n",
    "    \n",
    "    def hi(self):\n",
    "        self.hello()\n",
    "\n",
    "#person 객체 생성        \n",
    "hong=Person(name='Hong',age='25')\n",
    "#name, age 할당을 안해주면 TypeError\n",
    "#TypeError: __init__() takes 1 positional argument but 3 were given\n",
    "\n",
    "#person의 기능 사용해보기\n",
    "hong.hi()\n",
    "print(hong.name, hong.age)\n"
   ]
  },
  {
   "cell_type": "markdown",
   "metadata": {},
   "source": [
    "### #instance가 Person class의 객체인지 확인하기"
   ]
  },
  {
   "cell_type": "code",
   "execution_count": 51,
   "metadata": {},
   "outputs": [
    {
     "data": {
      "text/plain": [
       "True"
      ]
     },
     "execution_count": 51,
     "metadata": {},
     "output_type": "execute_result"
    }
   ],
   "source": [
    "isinstance(hong, Person)"
   ]
  },
  {
   "cell_type": "markdown",
   "metadata": {},
   "source": [
    "### #Bicycle class 선언"
   ]
  },
  {
   "cell_type": "code",
   "execution_count": 49,
   "metadata": {},
   "outputs": [
    {
     "name": "stdout",
     "output_type": "stream",
     "text": [
      "1th bicycle is created.\n",
      "2th bicycle is created.\n",
      "\n",
      "Totally 2 bicycles is created.\n",
      "\n",
      "A bicycle (yellow, 26 inch wheel) is riding in 30km/h\n",
      "A bicycle (gray, 33 inch wheel) is riding in 20km/h\n"
     ]
    }
   ],
   "source": [
    "class Bicycle():\n",
    "    \n",
    "    instance_count=0\n",
    "    \n",
    "    def __init__(self, wheel_size, color, price):\n",
    "        self.wheel_size=wheel_size\n",
    "        self.color=color\n",
    "        self.price=price\n",
    "        Bicycle.instance_count+=1\n",
    "        print(\"{0}th bicycle is created.\".format(Bicycle.instance_count))\n",
    "        \n",
    "    def move(self, speed):\n",
    "        print(\"A bicycle ({0}, {1} inch wheel) is riding in {2}km/h\".format(self.color,self.wheel_size, speed))\n",
    "    \n",
    "    def turn(self, direction):\n",
    "        print(\"Turn to the {0}\".format(direction))\n",
    "    \n",
    "    def stop(self):\n",
    "        print(\"A bicycle ({0}, {1} inch wheel) stops\".format( self.color,self.wheel_size))\n",
    "    \n",
    "    \n",
    "my_bicycle=Bicycle(26,'yellow', '300$')\n",
    "her_bicycle=Bicycle(33,'gray','430$')\n",
    "\n",
    "print(\"\\nTotally {0} bicycles is created.\\n\".format(Bicycle.instance_count))\n",
    "\n",
    "my_bicycle.move(30)\n",
    "her_bicycle.move(20)\n",
    "#my_bicycle.turn('right')\n",
    "#my_bicycle.stop()"
   ]
  },
  {
   "cell_type": "markdown",
   "metadata": {},
   "source": [
    "## 1-2. 정적 메서드 Static Method\n",
    "- 클래스나 클래스의 인스턴스와는 무관하게 독립적으로 동작하는 함수를 만듥 싶을 때 이용하는 함수임.\n",
    "- self를 사용하지 않는다.\n",
    "- 객체를 생성하지 않고도 class에 있는 메서드를 사용할 수 있다.\n",
    "- @staticmethod"
   ]
  },
  {
   "cell_type": "code",
   "execution_count": 52,
   "metadata": {},
   "outputs": [
    {
     "name": "stdout",
     "output_type": "stream",
     "text": [
      "Electronic Car\n",
      "Diesel Car\n"
     ]
    }
   ],
   "source": [
    "class Car():\n",
    "    instance_count=0\n",
    "    \n",
    "    def __init__(self, wheel_size, color, price):\n",
    "        self.wheel_size=wheel_size\n",
    "        self.color=color\n",
    "        self.price=price\n",
    "        Car.instance_count+=1\n",
    "        print(\"{0}th car is created.\".format(Car.instance_count))\n",
    "        \n",
    "    def move(self, speed):\n",
    "        print(\"A Car ({0}, {1} inch wheel) is riding in {2}km/h\".format(self.color,self.wheel_size, speed))\n",
    "    \n",
    "    def turn(self, direction):\n",
    "        print(\"Turn to the {0}\".format(direction))\n",
    "    \n",
    "    def stop(self):\n",
    "        print(\"A Car ({0}, {1} inch wheel) stops\".format( self.color,self.wheel_size))\n",
    "        \n",
    "    #정적메서드\n",
    "    @staticmethod\n",
    "    def check_type(model_code):\n",
    "        if(model_code>=20):\n",
    "            print(\"Electronic Car\")\n",
    "        elif(10<=model_code<20):\n",
    "            print(\"Gasoline Car\")\n",
    "        else:\n",
    "            print('Diesel Car')\n",
    "            \n",
    "Car.check_type(25)\n",
    "Car.check_type(2)"
   ]
  },
  {
   "cell_type": "markdown",
   "metadata": {},
   "source": [
    "## 1-3. 클래스 메서드 Class Method\n",
    "- 클래스 변수를 사용하기 위한 함수.\n",
    "- self대신 cls를 사용, 이를 이용해 클래스 변수에 접근함.\n",
    "- 생선된 객체의 개수를 반환하는 등 클래스 전체에서 관리해야 할 기능이 있을 때 주로 사용함.\n",
    "- @classmethod"
   ]
  },
  {
   "cell_type": "code",
   "execution_count": 53,
   "metadata": {},
   "outputs": [
    {
     "name": "stdout",
     "output_type": "stream",
     "text": [
      "0 cars here\n"
     ]
    }
   ],
   "source": [
    "class Car():\n",
    "    instance_count=0\n",
    "    \n",
    "    def __init__(self, wheel_size, color, price):\n",
    "        self.wheel_size=wheel_size\n",
    "        self.color=color\n",
    "        self.price=price\n",
    "        Car.instance_count+=1\n",
    "        print(\"{0}th car is created.\".format(Car.instance_count))\n",
    "        \n",
    "    def move(self, speed):\n",
    "        print(\"A Car ({0}, {1} inch wheel) is riding in {2}km/h\".format(self.color,self.wheel_size, speed))\n",
    "    \n",
    "    def turn(self, direction):\n",
    "        print(\"Turn to the {0}\".format(direction))\n",
    "    \n",
    "    def stop(self):\n",
    "        print(\"A Car ({0}, {1} inch wheel) stops\".format( self.color,self.wheel_size))\n",
    "        \n",
    "    #클래스 메서드\n",
    "    @classmethod\n",
    "    def count_instance(cls):\n",
    "        print(\"{0} cars here\".format(cls.instance_count))\n",
    "        \n",
    "Car.count_instance()"
   ]
  },
  {
   "cell_type": "markdown",
   "metadata": {},
   "source": [
    "# 2. 객체와 클래스를 사용하는 이유\n",
    "- 코드 작성과 관리가 편하기 때문에\n",
    "- 게임의 캐릭터와 같이 유사한 객체가 많은 프로그램을 작성할 때 코드 작성\n",
    "\n",
    "### #위로 이동하는 로봇게임 만들기"
   ]
  },
  {
   "cell_type": "code",
   "execution_count": 61,
   "metadata": {},
   "outputs": [
    {
     "name": "stdout",
     "output_type": "stream",
     "text": [
      "1th robot is created.\n",
      "2th robot is created.\n",
      "2 robots here.\n"
     ]
    }
   ],
   "source": [
    "class Robot:\n",
    "    count_instance=0\n",
    "    \n",
    "    def __init__(self, name, pos):\n",
    "        self.name=name\n",
    "        self.pos=pos\n",
    "        Robot.count_instance+=1\n",
    "        print(\"{0}th robot is created.\".format(Robot.count_instance))\n",
    "        \n",
    "    def move(self):\n",
    "        self.pos+=1\n",
    "        print(\"{0} position: {1}\".format(self.name, self.pos))\n",
    "        \n",
    "    #클래스 메서드\n",
    "    @classmethod\n",
    "    def count(cls):\n",
    "        print(\"{0} robots here.\".format(cls.count_instance))\n",
    "        \n",
    "robot1=Robot('Hong', 0)\n",
    "robot2=Robot('Jin', 5)\n",
    "\n",
    "Robot.count()\n",
    "        "
   ]
  },
  {
   "cell_type": "code",
   "execution_count": 58,
   "metadata": {
    "scrolled": true
   },
   "outputs": [
    {
     "name": "stdout",
     "output_type": "stream",
     "text": [
      "Hong position: 1\n",
      "Jin position: 6\n"
     ]
    }
   ],
   "source": [
    "robot1.move()\n",
    "robot2.move()"
   ]
  },
  {
   "cell_type": "markdown",
   "metadata": {},
   "source": [
    "# 3. 클래스 상속\n",
    "- 상속? 이미 만들어진 클래스의 변수와 함수를 그대로 이어받고 새로운 내용을 추가해서 클래스를 선언할 때, 이어받기를 상속이라고 한다.\n",
    "- 코드의 재사용성이 좋아진다."
   ]
  },
  {
   "cell_type": "code",
   "execution_count": 19,
   "metadata": {},
   "outputs": [],
   "source": [
    "class Bicycle():\n",
    "    \n",
    "    instance_count=0\n",
    "    \n",
    "    def __init__(self,wheel_size, color):\n",
    "        self.wheel_size=wheel_size\n",
    "        self.color=color\n",
    "        #self.price=price\n",
    "        Bicycle.instance_count+=1\n",
    "        print(\"{0}th bicycle is created.\\n\".format(Bicycle.instance_count))\n",
    "        \n",
    "    def move(self, speed):\n",
    "        print(\"A bicycle ({0}, {1} inch wheel) is riding in {2}km/h\".format(self.color,self.wheel_size, speed))\n",
    "    \n",
    "    def turn(self, direction):\n",
    "        print(\"Turn to the {0}\".format(direction))\n",
    "    \n",
    "    def stop(self):\n",
    "        print(\"A bicycle ({0}, {1} inch wheel) stops\".format( self.color,self.wheel_size))\n",
    "        \n",
    "        \n",
    "class FoldingBicycle(Bicycle):\n",
    "    def __init__(self,wheel_size, color, state):\n",
    "        Bicycle.__init__(self, wheel_size, color) #Bicycle의 초기화 재사용\n",
    "        #super().__init__(wheel_size, color) #super() 도 사용 가능\n",
    "        self.state=state #자식클래스에서 새로 추가한 변수를 초기화\n",
    "        print(\"State lately: {0}\\n\".format(self.state))\n",
    "        \n",
    "    def fold(self):\n",
    "        self.state='folding'\n",
    "        print(\"자전거: 접기, state : {0}\".format(self.state))\n",
    "        \n",
    "    def unfold(self):\n",
    "        self.state='unfolding'\n",
    "        print(\"자전거: 펴기, state : {0}\".format(self.state))"
   ]
  },
  {
   "cell_type": "code",
   "execution_count": 21,
   "metadata": {},
   "outputs": [
    {
     "name": "stdout",
     "output_type": "stream",
     "text": [
      "2th bicycle is created.\n",
      "\n",
      "State lately: unfolding\n",
      "\n",
      "A bicycle (red, 27 inch wheel) is riding in 40km/h\n",
      "Turn to the right\n",
      "A bicycle (red, 27 inch wheel) stops\n",
      "자전거: 접기, state : folding\n",
      "자전거: 펴기, state : unfolding\n"
     ]
    }
   ],
   "source": [
    "folding_bicycle1=FoldingBicycle(27,'red', 'unfolding')\n",
    "\n",
    "folding_bicycle1.move(40)\n",
    "folding_bicycle1.turn('right')\n",
    "folding_bicycle1.stop()\n",
    "folding_bicycle1.fold()\n",
    "folding_bicycle1.unfold()"
   ]
  }
 ],
 "metadata": {
  "kernelspec": {
   "display_name": "Python 3",
   "language": "python",
   "name": "python3"
  },
  "language_info": {
   "codemirror_mode": {
    "name": "ipython",
    "version": 3
   },
   "file_extension": ".py",
   "mimetype": "text/x-python",
   "name": "python",
   "nbconvert_exporter": "python",
   "pygments_lexer": "ipython3",
   "version": "3.7.6"
  }
 },
 "nbformat": 4,
 "nbformat_minor": 4
}
