{
 "cells": [
  {
   "cell_type": "markdown",
   "metadata": {},
   "source": [
    "# 01. 모듈을 사용하는 이유\n",
    "- 모듈 : 상수, 변수, 함수, 클래스를 포함하는 코드가 저장된 파일\n",
    "- 다른 모듈에서도 불러서 실행가능, 파이썬 콘솔이나 주피터에서 불러서 실행할 수 있다.\n",
    "\n",
    "- 코드 작성와 관리가 쉽다.(JAVA의 클래스 개념, 공동작업에 유리하다)\n",
    "- 이미 작성된 모듈을 재사용하기 쉽다."
   ]
  },
  {
   "cell_type": "markdown",
   "metadata": {},
   "source": [
    "# 02. 모듈 생성 및 호출\n",
    "\n",
    "#### 지정된 위치에 hong 이름의 파이썬 파일을 저장한다."
   ]
  },
  {
   "cell_type": "code",
   "execution_count": 8,
   "metadata": {},
   "outputs": [
    {
     "name": "stdout",
     "output_type": "stream",
     "text": [
      "Writing c:\\python\\hong.py\n"
     ]
    }
   ],
   "source": [
    "%%writefile c:\\python\\hong.py\n",
    "def hong_fun():\n",
    "    print('홍쮸릅')"
   ]
  },
  {
   "cell_type": "code",
   "execution_count": 9,
   "metadata": {},
   "outputs": [
    {
     "name": "stdout",
     "output_type": "stream",
     "text": [
      "c:\\python\n"
     ]
    }
   ],
   "source": [
    "cd c:/python"
   ]
  },
  {
   "cell_type": "code",
   "execution_count": 14,
   "metadata": {},
   "outputs": [
    {
     "name": "stdout",
     "output_type": "stream",
     "text": [
      "홍쮸릅\n"
     ]
    }
   ],
   "source": [
    "import hong as h\n",
    "\n",
    "h.hong_fun()\n"
   ]
  },
  {
   "cell_type": "code",
   "execution_count": 15,
   "metadata": {},
   "outputs": [
    {
     "data": {
      "text/plain": [
       "['__builtins__',\n",
       " '__cached__',\n",
       " '__doc__',\n",
       " '__file__',\n",
       " '__loader__',\n",
       " '__name__',\n",
       " '__package__',\n",
       " '__spec__',\n",
       " 'hong_fun']"
      ]
     },
     "execution_count": 15,
     "metadata": {},
     "output_type": "execute_result"
    }
   ],
   "source": [
    "dir(h)"
   ]
  },
  {
   "cell_type": "code",
   "execution_count": 19,
   "metadata": {},
   "outputs": [
    {
     "name": "stdout",
     "output_type": "stream",
     "text": [
      "홍쮸릅\n"
     ]
    }
   ],
   "source": [
    "from hong import hong_fun\n",
    "#from구문 : 여러모듈에 hong_fun이란 함수가 여러 모듈에 들어있을 수 있기 때문에 써준다.\n",
    "# fromg hong이 없으면 현재 scope에서 hong의 존재를 모르기 때문에 에러\n",
    "\n",
    "hong_fun()"
   ]
  },
  {
   "cell_type": "code",
   "execution_count": 25,
   "metadata": {},
   "outputs": [
    {
     "name": "stdout",
     "output_type": "stream",
     "text": [
      "c:\\python\n"
     ]
    }
   ],
   "source": [
    "cd c:/python\n"
   ]
  },
  {
   "cell_type": "code",
   "execution_count": 30,
   "metadata": {},
   "outputs": [
    {
     "data": {
      "text/plain": [
       "['__annotations__',\n",
       " '__call__',\n",
       " '__class__',\n",
       " '__closure__',\n",
       " '__code__',\n",
       " '__defaults__',\n",
       " '__delattr__',\n",
       " '__dict__',\n",
       " '__dir__',\n",
       " '__doc__',\n",
       " '__eq__',\n",
       " '__format__',\n",
       " '__ge__',\n",
       " '__get__',\n",
       " '__getattribute__',\n",
       " '__globals__',\n",
       " '__gt__',\n",
       " '__hash__',\n",
       " '__init__',\n",
       " '__init_subclass__',\n",
       " '__kwdefaults__',\n",
       " '__le__',\n",
       " '__lt__',\n",
       " '__module__',\n",
       " '__name__',\n",
       " '__ne__',\n",
       " '__new__',\n",
       " '__qualname__',\n",
       " '__reduce__',\n",
       " '__reduce_ex__',\n",
       " '__repr__',\n",
       " '__setattr__',\n",
       " '__sizeof__',\n",
       " '__str__',\n",
       " '__subclasshook__']"
      ]
     },
     "execution_count": 30,
     "metadata": {},
     "output_type": "execute_result"
    }
   ],
   "source": [
    "from hong import hong_fun\n",
    "\n",
    "dir(hong_fun)"
   ]
  },
  {
   "cell_type": "markdown",
   "metadata": {},
   "source": [
    "# 03. 모듈을 직접 실행하는 경우 vs 임포트한 후 실행하는 경우\n",
    "- 임포트 단점: 'import 모듈명'으로 불러온 후에 모듈과 관련된 코드를 실행해야 결과를 확인할 수 있다. 상당히 번거로움\n",
    "- 임포트 장점: 직접 실행시키면 모듈의 전체가 실행되지만 import하면 모듈 중 원하는 함수만 따로 실행시킬 수 있다.\n",
    "- 그래서 모듈 내에서 함수나 클래스를 직접 호출할 수 있다."
   ]
  },
  {
   "cell_type": "code",
   "execution_count": 48,
   "metadata": {},
   "outputs": [
    {
     "name": "stdout",
     "output_type": "stream",
     "text": [
      "Overwriting c:/python/my_module_test1.py\n"
     ]
    }
   ],
   "source": [
    "%%writefile c:/python/my_module_test1.py\n",
    "def func(a):\n",
    "        print('input',a)\n",
    "        \n",
    "func(3)"
   ]
  },
  {
   "cell_type": "code",
   "execution_count": 49,
   "metadata": {
    "scrolled": true
   },
   "outputs": [
    {
     "name": "stdout",
     "output_type": "stream",
     "text": [
      "input 3\n"
     ]
    }
   ],
   "source": [
    "# 직접 실행하는 경우\n",
    "%run c:/python/my_module_test1.py"
   ]
  },
  {
   "cell_type": "markdown",
   "metadata": {},
   "source": [
    "- 'import my_module_test1' 하면 처음 한번만 'input 3'가 출력되고 그 이후론 되지않는다. 왜냐하면 한번 불러온 모듈을 다시 'import my_module_test1'을 하면 반영되지 않기 때문이다. 따라서 모듈을 부른 이후에 해당 모듈이 수정된 경우 수정된 내용을 반영하기 위해서는 파이썬 콘솔이나 IPython 프로그램을 종료한 후 다시 시작해야 한다. 주피터의 경우 Kernel Restart 로 모듈을 다시 불러온 후 수정사항을 반영할 수 있다.\n",
    "- 마지막 func(3)는 단순히 func함수가 잘 작성되었는지 확인하는 용도이고 확인한 후 에는 지워주어야한다.\n",
    "- 일일이 지워주는 것은 번거로우므로 애초에 직접실행하는 경우에만 test코드를 실행되게 하고, import해서 사용할 때에는 실행되지않게 하는 것이 편리할 것이다.\n",
    "- 직접 실행하면 \"__ name__\"에 '__ main__'이 저장된다.\n",
    "- 임포트하여 실행하면 '__ name__'에 'executeThisModule'이 저장된다."
   ]
  },
  {
   "cell_type": "code",
   "execution_count": 54,
   "metadata": {},
   "outputs": [],
   "source": [
    "# 임포트한 후 실행하는 경우\n",
    "import my_module_test1"
   ]
  },
  {
   "cell_type": "code",
   "execution_count": 59,
   "metadata": {},
   "outputs": [
    {
     "name": "stdout",
     "output_type": "stream",
     "text": [
      "Overwriting c:/python/my_module_test1.py\n"
     ]
    }
   ],
   "source": [
    "%%writefile c:/python/my_module_test1.py\n",
    "def func(a):\n",
    "        print('input',a)\n",
    "        \n",
    "if __name__==\"__main__\":\n",
    "    print(\"직접 실행하는 경우: 3과 4가 출력되야 올바르다.\")\n",
    "    func(3)\n",
    "    func(4)\n",
    "    print(__name__)"
   ]
  },
  {
   "cell_type": "code",
   "execution_count": 60,
   "metadata": {},
   "outputs": [
    {
     "name": "stdout",
     "output_type": "stream",
     "text": [
      "직접 실행하는 경우: 3과 4가 출력되야 올바르다.\n",
      "input 3\n",
      "input 4\n",
      "__main__\n"
     ]
    }
   ],
   "source": [
    "# 직접 실행하는 경우\n",
    "%run c:/python/my_module_test1.py"
   ]
  },
  {
   "cell_type": "code",
   "execution_count": 41,
   "metadata": {},
   "outputs": [
    {
     "name": "stdout",
     "output_type": "stream",
     "text": [
      "Overwriting c:\\python\\hong.py\n"
     ]
    }
   ],
   "source": [
    "%%writefile c:\\python\\hong.py\n",
    "def hong_fun():\n",
    "        print('홍쮸릅')\n",
    "    \n",
    "if __name__==\"__main__\":\n",
    "        print(\"모듈을 직접 실행\")\n",
    "        hong_fun()\n",
    "else:\n",
    "        print(\"모듈을 임포트해서 실행\")"
   ]
  },
  {
   "cell_type": "code",
   "execution_count": 42,
   "metadata": {
    "scrolled": true
   },
   "outputs": [
    {
     "name": "stdout",
     "output_type": "stream",
     "text": [
      "모듈을 직접 실행\n",
      "홍쮸릅\n"
     ]
    }
   ],
   "source": [
    "%run c:/python/hong.py"
   ]
  },
  {
   "cell_type": "markdown",
   "metadata": {},
   "source": [
    "# 04. 내장 모듈\n",
    "## 4-1. 난수 발생 모듈(random)\n",
    "- NumPy rand() 와 다름(0~1 사이의 값으로 어레이생성"
   ]
  },
  {
   "cell_type": "code",
   "execution_count": 2,
   "metadata": {},
   "outputs": [
    {
     "data": {
      "text/plain": [
       "0.9657176646267941"
      ]
     },
     "execution_count": 2,
     "metadata": {},
     "output_type": "execute_result"
    }
   ],
   "source": [
    "import random\n",
    "random.random() # random모듈의 random함수"
   ]
  },
  {
   "cell_type": "code",
   "execution_count": 83,
   "metadata": {},
   "outputs": [
    {
     "data": {
      "text/plain": [
       "2"
      ]
     },
     "execution_count": 83,
     "metadata": {},
     "output_type": "execute_result"
    }
   ],
   "source": [
    "random.randint(1,3) # 1이상 9이하의 랜덤 정수"
   ]
  },
  {
   "cell_type": "code",
   "execution_count": 108,
   "metadata": {
    "scrolled": true
   },
   "outputs": [
    {
     "data": {
      "text/plain": [
       "1"
      ]
     },
     "execution_count": 108,
     "metadata": {},
     "output_type": "execute_result"
    }
   ],
   "source": [
    "random.randrange(1,10,1) # 0이상 10미만의 2step 랜덤 정수\n",
    "# randint는 마지막 수 포함\n",
    "# randrange는 마지막 수 미포함 + step 설정 가능"
   ]
  },
  {
   "cell_type": "code",
   "execution_count": 24,
   "metadata": {
    "scrolled": true
   },
   "outputs": [
    {
     "data": {
      "text/plain": [
       "1"
      ]
     },
     "execution_count": 24,
     "metadata": {},
     "output_type": "execute_result"
    }
   ],
   "source": [
    "random.choice([1,2,3]) # 나열된 sequance에서 랜덤항목 반환"
   ]
  },
  {
   "cell_type": "code",
   "execution_count": 37,
   "metadata": {
    "scrolled": true
   },
   "outputs": [
    {
     "data": {
      "text/plain": [
       "[3, 2, 2]"
      ]
     },
     "execution_count": 37,
     "metadata": {},
     "output_type": "execute_result"
    }
   ],
   "source": [
    "random.sample([0,1,2,2,2,3,3,3,4,5], 3) # 나열된 sequance 에서 3개의 랜덤항목 반환"
   ]
  },
  {
   "cell_type": "markdown",
   "metadata": {},
   "source": [
    "## #Quiz Feedback"
   ]
  },
  {
   "cell_type": "code",
   "execution_count": 110,
   "metadata": {},
   "outputs": [
    {
     "name": "stdout",
     "output_type": "stream",
     "text": [
      "['10', '34', '17']\n"
     ]
    }
   ],
   "source": [
    "# join 함수 사용\n",
    "\n",
    "time_str = \"10:34:17\"\n",
    "time_list=time_str.split(\":\")\n",
    "\n",
    "print(time_list)"
   ]
  },
  {
   "cell_type": "code",
   "execution_count": 111,
   "metadata": {
    "scrolled": true
   },
   "outputs": [
    {
     "data": {
      "text/plain": [
       "'10/34/17'"
      ]
     },
     "execution_count": 111,
     "metadata": {},
     "output_type": "execute_result"
    }
   ],
   "source": [
    "\"/\".join(time_list)"
   ]
  },
  {
   "cell_type": "code",
   "execution_count": 112,
   "metadata": {},
   "outputs": [
    {
     "data": {
      "text/plain": [
       "False"
      ]
     },
     "execution_count": 112,
     "metadata": {},
     "output_type": "execute_result"
    }
   ],
   "source": [
    "# bool 함수 예시, null string이 들어가면 false\n",
    "bool(\"\")"
   ]
  },
  {
   "cell_type": "markdown",
   "metadata": {},
   "source": [
    "### Q. list comprehension을 이용하여 10개짜리 list에 0부터 시작하는 짝수를 저장해보자"
   ]
  },
  {
   "cell_type": "code",
   "execution_count": 132,
   "metadata": {},
   "outputs": [
    {
     "data": {
      "text/plain": [
       "[0, 2, 4, 6, 8, 10, 12, 14, 16, 18]"
      ]
     },
     "execution_count": 132,
     "metadata": {},
     "output_type": "execute_result"
    }
   ],
   "source": [
    "# list comprehension\n",
    "# [ ( 변수를 활용한 값 ) for ( 사용할 변수 이름 ) in ( 순회할 수 있는 값 )]\n",
    "\n",
    "size = 10\n",
    "arr = [0] * size # list에 정수를 곱하면 list 데이터가 반복된다.\n",
    "\n",
    "arr = [i * 2 for i in range(len(arr))] # for문 대신 간단하게 사용할 수 있다.\n",
    "\n",
    "#for i in range(len(arr)):\n",
    "#    arr[i]=i*2\n",
    "    \n",
    "arr"
   ]
  },
  {
   "cell_type": "markdown",
   "metadata": {},
   "source": [
    "### Q. 위에서 만든 list를 활용하여 각 원소의 제곱"
   ]
  },
  {
   "cell_type": "code",
   "execution_count": 133,
   "metadata": {},
   "outputs": [
    {
     "data": {
      "text/plain": [
       "[0, 4, 16, 36, 64, 100, 144, 196, 256, 324]"
      ]
     },
     "execution_count": 133,
     "metadata": {},
     "output_type": "execute_result"
    }
   ],
   "source": [
    "arr=[i**2 for i in arr] # list의 각 원소를 제곱함\n",
    "arr"
   ]
  },
  {
   "cell_type": "markdown",
   "metadata": {},
   "source": [
    "### Q. 문자열(str)을 입력 받아서 이웃한 문자를 두 개씩 이어붙인 새 문자열을 원소로 하는 리스트를 만들어보자"
   ]
  },
  {
   "cell_type": "code",
   "execution_count": 134,
   "metadata": {},
   "outputs": [
    {
     "name": "stdout",
     "output_type": "stream",
     "text": [
      "str을 입력하시오python\n"
     ]
    },
    {
     "data": {
      "text/plain": [
       "['pp', 'yy', 'tt', 'hh', 'oo', 'nn']"
      ]
     },
     "execution_count": 134,
     "metadata": {},
     "output_type": "execute_result"
    }
   ],
   "source": [
    "word=input(\"str을 입력하시오\" )\n",
    "\n",
    "word=[i*2 for i in word]\n",
    "word"
   ]
  },
  {
   "cell_type": "markdown",
   "metadata": {},
   "source": [
    "### Q. import sys"
   ]
  },
  {
   "cell_type": "code",
   "execution_count": 139,
   "metadata": {
    "scrolled": true
   },
   "outputs": [
    {
     "data": {
      "text/plain": [
       "['C:\\\\Users\\\\student\\\\python_exam',\n",
       " 'C:\\\\ProgramData\\\\Anaconda3\\\\python37.zip',\n",
       " 'C:\\\\ProgramData\\\\Anaconda3\\\\DLLs',\n",
       " 'C:\\\\ProgramData\\\\Anaconda3\\\\lib',\n",
       " 'C:\\\\ProgramData\\\\Anaconda3',\n",
       " '',\n",
       " 'C:\\\\ProgramData\\\\Anaconda3\\\\lib\\\\site-packages',\n",
       " 'C:\\\\ProgramData\\\\Anaconda3\\\\lib\\\\site-packages\\\\win32',\n",
       " 'C:\\\\ProgramData\\\\Anaconda3\\\\lib\\\\site-packages\\\\win32\\\\lib',\n",
       " 'C:\\\\ProgramData\\\\Anaconda3\\\\lib\\\\site-packages\\\\Pythonwin',\n",
       " 'C:\\\\ProgramData\\\\Anaconda3\\\\lib\\\\site-packages\\\\IPython\\\\extensions',\n",
       " 'C:\\\\Users\\\\student\\\\.ipython']"
      ]
     },
     "execution_count": 139,
     "metadata": {},
     "output_type": "execute_result"
    }
   ],
   "source": [
    "import sys\n",
    "sys.path # 파이썬 라이브러리들이 저장되어있는 경로 출력"
   ]
  },
  {
   "cell_type": "code",
   "execution_count": 140,
   "metadata": {},
   "outputs": [
    {
     "data": {
      "text/plain": [
       "'C:\\\\ProgramData\\\\Anaconda3'"
      ]
     },
     "execution_count": 140,
     "metadata": {},
     "output_type": "execute_result"
    }
   ],
   "source": [
    "sys.prefix # 파이썬이 설치된 경로"
   ]
  }
 ],
 "metadata": {
  "kernelspec": {
   "display_name": "Python 3",
   "language": "python",
   "name": "python3"
  },
  "language_info": {
   "codemirror_mode": {
    "name": "ipython",
    "version": 3
   },
   "file_extension": ".py",
   "mimetype": "text/x-python",
   "name": "python",
   "nbconvert_exporter": "python",
   "pygments_lexer": "ipython3",
   "version": "3.7.6"
  }
 },
 "nbformat": 4,
 "nbformat_minor": 4
}
