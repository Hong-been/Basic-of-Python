{
 "cells": [
  {
   "cell_type": "markdown",
   "metadata": {},
   "source": [
    "# Q1. str수정하기"
   ]
  },
  {
   "cell_type": "code",
   "execution_count": 1,
   "metadata": {},
   "outputs": [
    {
     "name": "stdout",
     "output_type": "stream",
     "text": [
      "h\n"
     ]
    }
   ],
   "source": [
    "a='python'\n",
    "print(a[3])"
   ]
  },
  {
   "cell_type": "code",
   "execution_count": 6,
   "metadata": {
    "scrolled": true
   },
   "outputs": [
    {
     "name": "stdout",
     "output_type": "stream",
     "text": [
      "pytion\n"
     ]
    }
   ],
   "source": [
    "b=a.replace(a[3],'i')\n",
    "print(b)"
   ]
  },
  {
   "cell_type": "markdown",
   "metadata": {},
   "source": [
    "# Q2. enumerate 함수\n",
    "- list가 있는 경우 순서와 리스트의 값을 전달하는 기능을 가짐.\n",
    "- '열거한다' 의 의미\n",
    "- 순서가 있는 자료형(list, tuple, str 등)을 입력받아서 인덱스를 포함하는 enumerate객체를 리턴한다.\n",
    "- for문과 주로 같이 사용한다."
   ]
  },
  {
   "cell_type": "code",
   "execution_count": 28,
   "metadata": {},
   "outputs": [
    {
     "name": "stdout",
     "output_type": "stream",
     "text": [
      "(0, 1)\n",
      "(1, 2)\n",
      "(2, 3)\n"
     ]
    }
   ],
   "source": [
    "data=enumerate((1,2,3)) #tuple\n",
    "data1=enumerate([1,2,3]) #list\n",
    "data2=enumerate({'name':'hong', 'age': 30 }) #dict\n",
    "\n",
    "for i in data:\n",
    "    print (i)"
   ]
  },
  {
   "cell_type": "code",
   "execution_count": 32,
   "metadata": {},
   "outputs": [
    {
     "name": "stdout",
     "output_type": "stream",
     "text": [
      "\n",
      "\n",
      "0 : 1\n",
      "1 : 2\n",
      "2 : 3\n",
      "\n",
      "\n",
      "(0, 'name')\n",
      "(1, 'age')\n"
     ]
    }
   ],
   "source": [
    "for i, value in data:\n",
    "    print(i, ':', value)\n",
    "    \n",
    "print('\\n')\n",
    "\n",
    "for i, value in data1:\n",
    "    print(i, ':', value)\n",
    "    \n",
    "print('\\n')\n",
    "\n",
    "for i in data2:\n",
    "    print(i)"
   ]
  },
  {
   "cell_type": "code",
   "execution_count": 34,
   "metadata": {
    "scrolled": true
   },
   "outputs": [
    {
     "name": "stdout",
     "output_type": "stream",
     "text": [
      "(100, 'p')\n",
      "(101, 'y')\n",
      "(102, 't')\n",
      "(103, 'h')\n",
      "(104, 'o')\n",
      "(105, 'n')\n"
     ]
    }
   ],
   "source": [
    "for i in enumerate('python', 100): #str를 인덱스 100부터 저장한다.\n",
    "    print(i)"
   ]
  },
  {
   "cell_type": "markdown",
   "metadata": {},
   "source": [
    "# Q3. zip 함수"
   ]
  },
  {
   "cell_type": "code",
   "execution_count": 26,
   "metadata": {},
   "outputs": [
    {
     "data": {
      "text/plain": [
       "[(1, 'hong'), (2, 'been')]"
      ]
     },
     "execution_count": 26,
     "metadata": {},
     "output_type": "execute_result"
    }
   ],
   "source": [
    "number=[1,2,3,4]\n",
    "name=['hong', 'been']\n",
    "\n",
    "person=list(zip(number, name))\n",
    "person"
   ]
  },
  {
   "cell_type": "markdown",
   "metadata": {},
   "source": [
    "# Q4. map 함수"
   ]
  },
  {
   "cell_type": "code",
   "execution_count": null,
   "metadata": {},
   "outputs": [],
   "source": []
  },
  {
   "cell_type": "markdown",
   "metadata": {},
   "source": [
    "# Q5. import pickle\n",
    "- pickle: 텍스트 상태의 데이터가 아닌 파이썬 객체 자체를 파일로 저장하는 것\n",
    "- pickle 모듈을 활용해 그 객체 자체를 바이너리로 저장한다.\n",
    "- pickle.dump(객체, 파일) 로 저장하고, pickle.load(파일) 로 로딩\n",
    "- list, dictionary 등을 파일 그대로 저장하면 용량이 매우 커진다.\n",
    "- pickle을 사용하면 binary형태로 저장되기 때문에 용량이 매우 작아진다"
   ]
  },
  {
   "cell_type": "code",
   "execution_count": 30,
   "metadata": {},
   "outputs": [],
   "source": [
    "import pickle\n",
    "\n",
    "name='hong'\n",
    "age=25\n",
    "address='서울시 강북구'\n",
    "score={'eng':100, 'math':100}\n",
    "\n",
    "with open('hong_infor.txt', 'wb') as f:\n",
    "    pickle.dump(name, f)\n",
    "    pickle.dump(age, f)\n",
    "    pickle.dump(address, f)\n",
    "    pickle.dump(score, f)"
   ]
  },
  {
   "cell_type": "code",
   "execution_count": 31,
   "metadata": {},
   "outputs": [
    {
     "name": "stdout",
     "output_type": "stream",
     "text": [
      "hong 25 서울시 강북구 {'eng': 100, 'math': 100}\n"
     ]
    }
   ],
   "source": [
    "with open('hong_infor.txt', 'rb') as f:\n",
    "    name=pickle.load(f)\n",
    "    age=pickle.load(f)\n",
    "    address=pickle.load(f)\n",
    "    score=pickle.load(f)\n",
    "    \n",
    "    print(name, age, address, score)"
   ]
  }
 ],
 "metadata": {
  "kernelspec": {
   "display_name": "Python 3",
   "language": "python",
   "name": "python3"
  },
  "language_info": {
   "codemirror_mode": {
    "name": "ipython",
    "version": 3
   },
   "file_extension": ".py",
   "mimetype": "text/x-python",
   "name": "python",
   "nbconvert_exporter": "python",
   "pygments_lexer": "ipython3",
   "version": "3.7.6"
  }
 },
 "nbformat": 4,
 "nbformat_minor": 4
}
