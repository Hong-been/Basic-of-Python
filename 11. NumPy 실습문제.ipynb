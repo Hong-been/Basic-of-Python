{
 "cells": [
  {
   "cell_type": "code",
   "execution_count": 2,
   "metadata": {},
   "outputs": [
    {
     "data": {
      "text/plain": [
       "array([0, 0, 0, 0, 0, 0, 0, 0, 0, 0, 0, 0, 0, 0, 0, 0, 0, 0, 0, 0])"
      ]
     },
     "execution_count": 2,
     "metadata": {},
     "output_type": "execute_result"
    }
   ],
   "source": [
    "# 1. 0으로 채워진 크기가 20인 배열을 생성하세요.\n",
    "import numpy as np\n",
    "\n",
    "a1=np.zeros(20, dtype='int')\n",
    "a"
   ]
  },
  {
   "cell_type": "code",
   "execution_count": 5,
   "metadata": {},
   "outputs": [
    {
     "data": {
      "text/plain": [
       "array([[ 0,  1,  2,  3],\n",
       "       [ 4,  5,  6,  7],\n",
       "       [ 8,  9, 10, 11],\n",
       "       [12, 13, 14, 15]])"
      ]
     },
     "execution_count": 5,
     "metadata": {},
     "output_type": "execute_result"
    }
   ],
   "source": [
    "# 2. 0부터 15까지의 값을 갖는 4 x 4 행렬을 생성하세요.\n",
    "a2=np.arange(16).reshape((4,4))\n",
    "a2"
   ]
  },
  {
   "cell_type": "code",
   "execution_count": 7,
   "metadata": {},
   "outputs": [
    {
     "data": {
      "text/plain": [
       "array([0, 0, 1, 0, 0, 0, 0, 0, 0, 0])"
      ]
     },
     "execution_count": 7,
     "metadata": {},
     "output_type": "execute_result"
    }
   ],
   "source": [
    "# 3. 길이가 10인데 세번째 요소만 1이고, 나머지 요소는 0인 배열을 생성하세요.\n",
    "a3=np.zeros(10, dtype='int')\n",
    "a3[2]=1\n",
    "\n",
    "a3"
   ]
  },
  {
   "cell_type": "code",
   "execution_count": 9,
   "metadata": {},
   "outputs": [
    {
     "data": {
      "text/plain": [
       "array([ 1,  2,  3,  4,  5,  6,  7,  8,  9, 10])"
      ]
     },
     "execution_count": 9,
     "metadata": {},
     "output_type": "execute_result"
    }
   ],
   "source": [
    "# 4. 1에서 10까지의 값을 갖는 배열을 생성하세요.\n",
    "a4=np.arange(1,11)\n",
    "a4"
   ]
  },
  {
   "cell_type": "code",
   "execution_count": 13,
   "metadata": {},
   "outputs": [
    {
     "data": {
      "text/plain": [
       "array([10,  9,  8,  7,  6,  5,  4,  3,  2,  1])"
      ]
     },
     "execution_count": 13,
     "metadata": {},
     "output_type": "execute_result"
    }
   ],
   "source": [
    "# 5. 위의 배열의 순서를 거꾸로 바꿔주세요.\n",
    "a5=a4[::-1]\n",
    "a5"
   ]
  },
  {
   "cell_type": "code",
   "execution_count": 14,
   "metadata": {},
   "outputs": [
    {
     "data": {
      "text/plain": [
       "array([[1., 0., 0., 0.],\n",
       "       [0., 1., 0., 0.],\n",
       "       [0., 0., 1., 0.],\n",
       "       [0., 0., 0., 1.]])"
      ]
     },
     "execution_count": 14,
     "metadata": {},
     "output_type": "execute_result"
    }
   ],
   "source": [
    "# 6. 4x4 단위행렬을 만드세요. (단위 행렬(영어: identity matrix)은 주대각선의 원소가 모두 1이며 나머지 원소는 모두 0인 정사각 행렬이다.)\n",
    "a6=np.eye(4)\n",
    "a6"
   ]
  },
  {
   "cell_type": "code",
   "execution_count": 16,
   "metadata": {},
   "outputs": [
    {
     "data": {
      "text/plain": [
       "array([[[0.75548171, 0.07938331, 0.98195268],\n",
       "        [0.90978513, 0.16966386, 0.58462608],\n",
       "        [0.45878323, 0.83321422, 0.43000642]],\n",
       "\n",
       "       [[0.92263001, 0.49179948, 0.73659086],\n",
       "        [0.75095544, 0.90760289, 0.67898863],\n",
       "        [0.45771811, 0.07819766, 0.69284273]],\n",
       "\n",
       "       [[0.00339121, 0.99720329, 0.38379966],\n",
       "        [0.86375511, 0.32559446, 0.61678873],\n",
       "        [0.71269647, 0.4416428 , 0.00758388]]])"
      ]
     },
     "execution_count": 16,
     "metadata": {},
     "output_type": "execute_result"
    }
   ],
   "source": [
    "# 7. 랜덤한 값을 가지는 3X3X3 배열을 생성하세요.\n",
    "a7=np.random.rand(3,3,3)\n",
    "a7"
   ]
  },
  {
   "cell_type": "code",
   "execution_count": 17,
   "metadata": {},
   "outputs": [
    {
     "data": {
      "text/plain": [
       "[0.9972032925496018, 0.0033912147373844626]"
      ]
     },
     "execution_count": 17,
     "metadata": {},
     "output_type": "execute_result"
    }
   ],
   "source": [
    "# 8. 위에서 생성한 배열 원소의 최대값, 최솟값을 구하세요.\n",
    "[a7.max(), a7.min()]"
   ]
  },
  {
   "cell_type": "code",
   "execution_count": 18,
   "metadata": {},
   "outputs": [
    {
     "data": {
      "text/plain": [
       "0.5497495830175925"
      ]
     },
     "execution_count": 18,
     "metadata": {},
     "output_type": "execute_result"
    }
   ],
   "source": [
    "# 8. 20개의 랜덤한 값을 가진 배열을 생성하고, 그 배열의 평균값을 구하시오.\n",
    "#참고: numpy에서 평균을 구하는 함수 - mean()\n",
    "a8=np.random.rand(20)\n",
    "a8.mean()"
   ]
  },
  {
   "cell_type": "code",
   "execution_count": 31,
   "metadata": {},
   "outputs": [
    {
     "data": {
      "text/plain": [
       "array([[1., 1., 1., 1.],\n",
       "       [1., 0., 0., 1.],\n",
       "       [1., 0., 0., 1.],\n",
       "       [1., 1., 1., 1.]])"
      ]
     },
     "execution_count": 31,
     "metadata": {},
     "output_type": "execute_result"
    }
   ],
   "source": [
    "#9. 4x4 의 2차원 배열을 생성하세요. 단 테두리는 1을 내부는 0으로 채워주세요.\n",
    "a9=np.zeros((4,4))\n",
    "a9[0]=1\n",
    "a9[-1]=1\n",
    "a9[1,0]=1\n",
    "a9[1,-1]=1\n",
    "a9[2,0]=1\n",
    "a9[2,-1]=1\n",
    "a9"
   ]
  }
 ],
 "metadata": {
  "kernelspec": {
   "display_name": "Python 3",
   "language": "python",
   "name": "python3"
  },
  "language_info": {
   "codemirror_mode": {
    "name": "ipython",
    "version": 3
   },
   "file_extension": ".py",
   "mimetype": "text/x-python",
   "name": "python",
   "nbconvert_exporter": "python",
   "pygments_lexer": "ipython3",
   "version": "3.7.6"
  }
 },
 "nbformat": 4,
 "nbformat_minor": 4
}
