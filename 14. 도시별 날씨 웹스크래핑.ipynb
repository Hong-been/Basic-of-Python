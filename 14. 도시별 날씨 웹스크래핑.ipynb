{
 "cells": [
  {
   "cell_type": "code",
   "execution_count": 2,
   "metadata": {
    "collapsed": true
   },
   "outputs": [
    {
     "data": {
      "text/plain": [
       "[['강릉', '26.8', '81'],\n",
       " ['강진군', '28.5', '77'],\n",
       " ['강화', '23.5', '99'],\n",
       " ['거제', '27.4', '84'],\n",
       " ['거창', '28.2', '73'],\n",
       " ['경주시', '30.2', '66'],\n",
       " ['고산', '28.8', '90'],\n",
       " ['고창', '29.0', '76'],\n",
       " ['고창군', '29.2', '73'],\n",
       " ['고흥', '27.8', '83'],\n",
       " ['광양시', '28.3', '75'],\n",
       " ['광주', '28.7', '90'],\n",
       " ['구미', '28.7', '84'],\n",
       " ['군산', '29.7', '76'],\n",
       " ['금산', '29.2', '65'],\n",
       " ['김해시', '27.8', '82'],\n",
       " ['남원', '28.9', '72'],\n",
       " ['남해', '28.9', '78'],\n",
       " ['대관령', '21.8', '96'],\n",
       " ['대구', '30.5', '56'],\n",
       " ['대전', '29.0', '77'],\n",
       " ['동두천', '24.0', '100'],\n",
       " ['동해', '23.1', '96'],\n",
       " ['목포', '28.5', '82'],\n",
       " ['문경', '28.0', '82'],\n",
       " ['밀양', '29.0', '70'],\n",
       " ['백령도', '24.0', '97'],\n",
       " ['보령', '26.7', '87'],\n",
       " ['보성군', '28.3', '85'],\n",
       " ['보은', '28.1', '74'],\n",
       " ['봉화', '23.0', '95'],\n",
       " ['부산', '28.3', '79'],\n",
       " ['부안', '28.8', '77'],\n",
       " ['부여', '28.9', '76'],\n",
       " ['북강릉', '25.8', '86'],\n",
       " ['북창원', '29.7', '80'],\n",
       " ['북춘천', '23.6', '99'],\n",
       " ['산청', '27.8', '83'],\n",
       " ['상주', '29.3', '74'],\n",
       " ['서귀포', '26.9', '99'],\n",
       " ['서산', '25.0', '94'],\n",
       " ['서울', '25.1', '99'],\n",
       " ['성산', '28.7', '79'],\n",
       " ['세종', '28.4', '75'],\n",
       " ['속초', '25.1', '91'],\n",
       " ['수원', '24.9', '94'],\n",
       " ['순창군', '27.9', '79'],\n",
       " ['순천', '27.5', '82'],\n",
       " ['안동', '27.8', '73'],\n",
       " ['양산시', '29.7', '76'],\n",
       " ['양평', '24.5', '97'],\n",
       " ['여수', '26.8', '94'],\n",
       " ['영광군', '28.8', '77'],\n",
       " ['영덕', '29.7', '64'],\n",
       " ['영월', '23.7', '98'],\n",
       " ['영주', '25.0', '91'],\n",
       " ['영천', '29.2', '65'],\n",
       " ['완도', '28.9', '78'],\n",
       " ['울릉도', '26.4', '81'],\n",
       " ['울산', '28.9', '70'],\n",
       " ['울진', '25.3', '78'],\n",
       " ['원주', '26.7', '74'],\n",
       " ['의령군', '29.7', '69'],\n",
       " ['의성', '29.8', '67'],\n",
       " ['이천', '26.1', '95'],\n",
       " ['인제', '23.6', '95'],\n",
       " ['인천', '24.2', '97'],\n",
       " ['임실', '26.7', '82'],\n",
       " ['장수', '26.4', '78'],\n",
       " ['장흥', '28.1', '83'],\n",
       " ['전주', '30.0', '70'],\n",
       " ['정선군', '23.6', '94'],\n",
       " ['정읍', '28.9', '70'],\n",
       " ['제주', '30.1', '68'],\n",
       " ['제천', '24.0', '93'],\n",
       " ['진도군', '28.0', '87'],\n",
       " ['진주', '28.2', '80'],\n",
       " ['창원', '28.7', '74'],\n",
       " ['천안', '25.5', '95'],\n",
       " ['철원', '24.8', '100'],\n",
       " ['청송군', '29.8', '69'],\n",
       " ['청주', '28.3', '75'],\n",
       " ['추풍령', '27.1', '73'],\n",
       " ['춘천', '24.0', '98'],\n",
       " ['충주', '27.0', '80'],\n",
       " ['태백', '23.8', '80'],\n",
       " ['통영', '27.4', '100'],\n",
       " ['파주', '23.7', '100'],\n",
       " ['포항', '30.9', '61'],\n",
       " ['함양군', '28.5', '76'],\n",
       " ['합천', '28.3', '79'],\n",
       " ['해남', '29.4', '79'],\n",
       " ['홍성', '27.2', '84'],\n",
       " ['홍천', '24.4', '94'],\n",
       " ['흑산도', '22.9', '99']]"
      ]
     },
     "execution_count": 2,
     "metadata": {},
     "output_type": "execute_result"
    }
   ],
   "source": [
    "import requests\n",
    "from bs4 import BeautifulSoup\n",
    "\n",
    "resp = requests.get('https://www.weather.go.kr/weather/observation/currentweather.jsp')\n",
    "bs = BeautifulSoup(resp.text, 'lxml')\n",
    "table = bs.find('table', class_='table_develop3')\n",
    "\n",
    "data=[]\n",
    "\n",
    "for tr in table.find_all('tr'):\n",
    "    tds = list(tr.find_all('td'))\n",
    "    \n",
    "    for td in tds:\n",
    "        if td.find('a'):\n",
    "            point = td.find('a').text\n",
    "            temperature = tds[5].text\n",
    "            humidity = tds[9].text\n",
    "            \n",
    "            data.append([point,temperature,humidity])\n",
    "\n",
    "data"
   ]
  },
  {
   "cell_type": "code",
   "execution_count": 3,
   "metadata": {},
   "outputs": [],
   "source": [
    "#데이터를 csv 파일에 저장히기   weather.csv \n",
    "\n",
    "with open('weather.csv','w') as file:\n",
    "    file.write('point, temperature, humidity \\n')\n",
    "    for i in data:\n",
    "        file.write('{0},{1},{2} \\n'.format(i[0],i[1],i[2]))"
   ]
  },
  {
   "cell_type": "code",
   "execution_count": 4,
   "metadata": {},
   "outputs": [
    {
     "data": {
      "text/html": [
       "<div>\n",
       "<style scoped>\n",
       "    .dataframe tbody tr th:only-of-type {\n",
       "        vertical-align: middle;\n",
       "    }\n",
       "\n",
       "    .dataframe tbody tr th {\n",
       "        vertical-align: top;\n",
       "    }\n",
       "\n",
       "    .dataframe thead th {\n",
       "        text-align: right;\n",
       "    }\n",
       "</style>\n",
       "<table border=\"1\" class=\"dataframe\">\n",
       "  <thead>\n",
       "    <tr style=\"text-align: right;\">\n",
       "      <th></th>\n",
       "      <th>temperature</th>\n",
       "      <th>humidity</th>\n",
       "    </tr>\n",
       "    <tr>\n",
       "      <th>point</th>\n",
       "      <th></th>\n",
       "      <th></th>\n",
       "    </tr>\n",
       "  </thead>\n",
       "  <tbody>\n",
       "    <tr>\n",
       "      <th>강릉</th>\n",
       "      <td>26.8</td>\n",
       "      <td>81</td>\n",
       "    </tr>\n",
       "    <tr>\n",
       "      <th>강진군</th>\n",
       "      <td>28.5</td>\n",
       "      <td>77</td>\n",
       "    </tr>\n",
       "    <tr>\n",
       "      <th>강화</th>\n",
       "      <td>23.5</td>\n",
       "      <td>99</td>\n",
       "    </tr>\n",
       "    <tr>\n",
       "      <th>거제</th>\n",
       "      <td>27.4</td>\n",
       "      <td>84</td>\n",
       "    </tr>\n",
       "    <tr>\n",
       "      <th>거창</th>\n",
       "      <td>28.2</td>\n",
       "      <td>73</td>\n",
       "    </tr>\n",
       "  </tbody>\n",
       "</table>\n",
       "</div>"
      ],
      "text/plain": [
       "        temperature   humidity \n",
       "point                          \n",
       "강릉             26.8          81\n",
       "강진군            28.5          77\n",
       "강화             23.5          99\n",
       "거제             27.4          84\n",
       "거창             28.2          73"
      ]
     },
     "execution_count": 4,
     "metadata": {},
     "output_type": "execute_result"
    }
   ],
   "source": [
    "#저장한 파일을 이용해서 Dataframe 만들어서 앞에 5개만 보기!! \n",
    "%matplotlib inline\n",
    "import pandas as pd \n",
    "import matplotlib as mpl\n",
    "import matplotlib.pyplot as plt\n",
    "\n",
    "df = pd.read_csv('weather.csv',index_col='point',encoding='euc-kr')\n",
    "df.head()"
   ]
  },
  {
   "cell_type": "code",
   "execution_count": 5,
   "metadata": {
    "scrolled": true
   },
   "outputs": [
    {
     "data": {
      "text/html": [
       "<div>\n",
       "<style scoped>\n",
       "    .dataframe tbody tr th:only-of-type {\n",
       "        vertical-align: middle;\n",
       "    }\n",
       "\n",
       "    .dataframe tbody tr th {\n",
       "        vertical-align: top;\n",
       "    }\n",
       "\n",
       "    .dataframe thead th {\n",
       "        text-align: right;\n",
       "    }\n",
       "</style>\n",
       "<table border=\"1\" class=\"dataframe\">\n",
       "  <thead>\n",
       "    <tr style=\"text-align: right;\">\n",
       "      <th></th>\n",
       "      <th>temperature</th>\n",
       "      <th>humidity</th>\n",
       "    </tr>\n",
       "    <tr>\n",
       "      <th>point</th>\n",
       "      <th></th>\n",
       "      <th></th>\n",
       "    </tr>\n",
       "  </thead>\n",
       "  <tbody>\n",
       "    <tr>\n",
       "      <th>서울</th>\n",
       "      <td>25.1</td>\n",
       "      <td>99</td>\n",
       "    </tr>\n",
       "    <tr>\n",
       "      <th>인천</th>\n",
       "      <td>24.2</td>\n",
       "      <td>97</td>\n",
       "    </tr>\n",
       "    <tr>\n",
       "      <th>대전</th>\n",
       "      <td>29.0</td>\n",
       "      <td>77</td>\n",
       "    </tr>\n",
       "  </tbody>\n",
       "</table>\n",
       "</div>"
      ],
      "text/plain": [
       "        temperature   humidity \n",
       "point                          \n",
       "서울             25.1          99\n",
       "인천             24.2          97\n",
       "대전             29.0          77"
      ]
     },
     "execution_count": 5,
     "metadata": {},
     "output_type": "execute_result"
    }
   ],
   "source": [
    "\n",
    "# 몇개 지역의 데이터만 모아보기!! \n",
    "# ex 서울, 인천 등 원하는 도시 7개만 모아보기\n",
    "city_df = df.loc[['서울','인천','대전','대구','광주','부산','울산']]\n",
    "city_df.head(3)"
   ]
  },
  {
   "cell_type": "code",
   "execution_count": 6,
   "metadata": {
    "scrolled": true
   },
   "outputs": [
    {
     "data": {
      "text/plain": [
       "<matplotlib.legend.Legend at 0x1a95b4ebcc8>"
      ]
     },
     "execution_count": 6,
     "metadata": {},
     "output_type": "execute_result"
    },
    {
     "data": {
      "image/png": "[encoded data removed]",
      "text/plain": [
       "<Figure size 864x288 with 1 Axes>"
      ]
     },
     "metadata": {
      "needs_background": "light"
     },
     "output_type": "display_data"
    }
   ],
   "source": [
    "#기온,습도 데이터로 그래프 그래보기 \n",
    "#font 설정\n",
    "font_name = mpl.font_manager.FontProperties(fname='c:/Windows/Fonts/malgun.ttf').get_name()\n",
    "mpl.rc('font',family=font_name)\n",
    "\n",
    "\n",
    "ax = city_df.plot(kind='bar', title='도시별 기온(/습도', figsize=(12,4), legend=True, fontsize=12)\n",
    "ax.set_xlabel('도시', fontsize=12)\n",
    "ax.set_ylabel('기온/습도',fontsize=12)\n",
    "ax.legend(['기온','습도'], fontsize=12)"
   ]
  },
  {
   "cell_type": "code",
   "execution_count": 7,
   "metadata": {},
   "outputs": [
    {
     "name": "stdout",
     "output_type": "stream",
     "text": [
      "ORA-00942: table or view does not exist\n"
     ]
    }
   ],
   "source": [
    "#db에 저장해보기!! \n",
    "\n",
    "import pandas as pd\n",
    "import cx_Oracle\n",
    "\n",
    "try:\n",
    "    con = cx_Oracle.connect('hr', 'hr', 'xe')\n",
    "    cursor = con.cursor()\n",
    "\n",
    "    rows=[]\n",
    "    for x in df.to_records(index=True):   \n",
    "        rows.append((x[0],x[1],int(x[2])))\n",
    "\n",
    "    cursor.executemany(\"insert into weather values(:1,:2,:3)\", rows)\n",
    "    \n",
    "except Exception as e:\n",
    "    print(e)\n",
    "else:\n",
    "    con.commit()\n",
    "finally:\n",
    "    cursor.close()\n",
    "    con.close()"
   ]
  },
  {
   "cell_type": "code",
   "execution_count": 8,
   "metadata": {},
   "outputs": [],
   "source": [
    "table =pd.read_html('https://www.weather.go.kr/weather/observation/currentweather.jsp',header=1,encoding='euc-kr')"
   ]
  },
  {
   "cell_type": "code",
   "execution_count": 9,
   "metadata": {},
   "outputs": [],
   "source": [
    "point_df =table[0]"
   ]
  },
  {
   "cell_type": "code",
   "execution_count": 10,
   "metadata": {},
   "outputs": [
    {
     "data": {
      "text/html": [
       "<div>\n",
       "<style scoped>\n",
       "    .dataframe tbody tr th:only-of-type {\n",
       "        vertical-align: middle;\n",
       "    }\n",
       "\n",
       "    .dataframe tbody tr th {\n",
       "        vertical-align: top;\n",
       "    }\n",
       "\n",
       "    .dataframe thead th {\n",
       "        text-align: right;\n",
       "    }\n",
       "</style>\n",
       "<table border=\"1\" class=\"dataframe\">\n",
       "  <thead>\n",
       "    <tr style=\"text-align: right;\">\n",
       "      <th></th>\n",
       "      <th>지점</th>\n",
       "      <th>현재기온</th>\n",
       "      <th>습도%</th>\n",
       "    </tr>\n",
       "  </thead>\n",
       "  <tbody>\n",
       "    <tr>\n",
       "      <th>0</th>\n",
       "      <td>강릉</td>\n",
       "      <td>26.8</td>\n",
       "      <td>81</td>\n",
       "    </tr>\n",
       "    <tr>\n",
       "      <th>1</th>\n",
       "      <td>강진군</td>\n",
       "      <td>28.5</td>\n",
       "      <td>77</td>\n",
       "    </tr>\n",
       "    <tr>\n",
       "      <th>2</th>\n",
       "      <td>강화</td>\n",
       "      <td>23.5</td>\n",
       "      <td>99</td>\n",
       "    </tr>\n",
       "    <tr>\n",
       "      <th>3</th>\n",
       "      <td>거제</td>\n",
       "      <td>27.4</td>\n",
       "      <td>84</td>\n",
       "    </tr>\n",
       "    <tr>\n",
       "      <th>4</th>\n",
       "      <td>거창</td>\n",
       "      <td>28.2</td>\n",
       "      <td>73</td>\n",
       "    </tr>\n",
       "    <tr>\n",
       "      <th>...</th>\n",
       "      <td>...</td>\n",
       "      <td>...</td>\n",
       "      <td>...</td>\n",
       "    </tr>\n",
       "    <tr>\n",
       "      <th>90</th>\n",
       "      <td>합천</td>\n",
       "      <td>28.3</td>\n",
       "      <td>79</td>\n",
       "    </tr>\n",
       "    <tr>\n",
       "      <th>91</th>\n",
       "      <td>해남</td>\n",
       "      <td>29.4</td>\n",
       "      <td>79</td>\n",
       "    </tr>\n",
       "    <tr>\n",
       "      <th>92</th>\n",
       "      <td>홍성</td>\n",
       "      <td>27.2</td>\n",
       "      <td>84</td>\n",
       "    </tr>\n",
       "    <tr>\n",
       "      <th>93</th>\n",
       "      <td>홍천</td>\n",
       "      <td>24.4</td>\n",
       "      <td>94</td>\n",
       "    </tr>\n",
       "    <tr>\n",
       "      <th>94</th>\n",
       "      <td>흑산도</td>\n",
       "      <td>22.9</td>\n",
       "      <td>99</td>\n",
       "    </tr>\n",
       "  </tbody>\n",
       "</table>\n",
       "<p>95 rows × 3 columns</p>\n",
       "</div>"
      ],
      "text/plain": [
       "     지점  현재기온  습도%\n",
       "0    강릉  26.8   81\n",
       "1   강진군  28.5   77\n",
       "2    강화  23.5   99\n",
       "3    거제  27.4   84\n",
       "4    거창  28.2   73\n",
       "..  ...   ...  ...\n",
       "90   합천  28.3   79\n",
       "91   해남  29.4   79\n",
       "92   홍성  27.2   84\n",
       "93   홍천  24.4   94\n",
       "94  흑산도  22.9   99\n",
       "\n",
       "[95 rows x 3 columns]"
      ]
     },
     "execution_count": 10,
     "metadata": {},
     "output_type": "execute_result"
    }
   ],
   "source": [
    "point_df[['지점','현재기온','습도%']]"
   ]
  }
 ],
 "metadata": {
  "kernelspec": {
   "display_name": "Python 3",
   "language": "python",
   "name": "python3"
  },
  "language_info": {
   "codemirror_mode": {
    "name": "ipython",
    "version": 3
   },
   "file_extension": ".py",
   "mimetype": "text/x-python",
   "name": "python",
   "nbconvert_exporter": "python",
   "pygments_lexer": "ipython3",
   "version": "3.7.6"
  }
 },
 "nbformat": 4,
 "nbformat_minor": 4
}
