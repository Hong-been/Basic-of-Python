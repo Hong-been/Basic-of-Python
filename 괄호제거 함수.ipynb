{
 "cells": [
  {
   "cell_type": "code",
   "execution_count": 1,
   "metadata": {},
   "outputs": [],
   "source": [
    "# string 형태 input을 넣으면, 정확한 메뉴명 추출해서 list형태로 return\n",
    "def split_menu(menu):\n",
    "    stack=[]\n",
    "    \n",
    "    if(menu.find('(') > -1 ):\n",
    "        start=menu.find('(')\n",
    "        \n",
    "        i=1\n",
    "        if(menu[start+i]= ')' ):\n",
    "            end=start+i\n",
    "            \n",
    "        else:\n",
    "            i=i+1\n",
    "            \n",
    "        \n",
    "        \n",
    "    return \n"
   ]
  },
  {
   "cell_type": "code",
   "execution_count": 5,
   "metadata": {},
   "outputs": [
    {
     "name": "stdout",
     "output_type": "stream",
     "text": [
      "NOTE: Enter 'c' at the ipdb>  prompt to continue execution.\n",
      "None\n",
      "> \u001b[1;32m<string>\u001b[0m(1)\u001b[0;36m<module>\u001b[1;34m()\u001b[0m\n",
      "\n",
      "ipdb> \n"
     ]
    }
   ],
   "source": [
    "\n",
    "menu='밥뚝딱 1人 부대찌개/1(메뉴 선택(부대찌개),추가 선택(라면사리 추가)),（NEW）삼겹엔냉면이지/1(메뉴 선택(비빔냉면))'\n",
    "\n",
    "%debug (split_menu(menu))"
   ]
  }
 ],
 "metadata": {
  "kernelspec": {
   "display_name": "Python 3",
   "language": "python",
   "name": "python3"
  },
  "language_info": {
   "codemirror_mode": {
    "name": "ipython",
    "version": 3
   },
   "file_extension": ".py",
   "mimetype": "text/x-python",
   "name": "python",
   "nbconvert_exporter": "python",
   "pygments_lexer": "ipython3",
   "version": "3.7.6"
  }
 },
 "nbformat": 4,
 "nbformat_minor": 4
}
